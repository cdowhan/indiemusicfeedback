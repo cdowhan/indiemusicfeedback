{
 "cells": [
  {
   "cell_type": "markdown",
   "metadata": {},
   "source": [
    "# r/IndieMusicFeedback Data Scrape"
   ]
  },
  {
   "cell_type": "markdown",
   "metadata": {},
   "source": [
    "r/IndieMusicFeedback is a music feedback subreddit. After commenting on 5 other posts, users upload a link with their song on it and mark a genre."
   ]
  },
  {
   "cell_type": "markdown",
   "metadata": {},
   "source": [
    "In the month of December 2020:\n",
    "  - What genre is posted the most frequently in r/IndieMusicFeedback?\n",
    "  - What URL do users redirect their posts to?"
   ]
  },
  {
   "cell_type": "markdown",
   "metadata": {},
   "source": [
    "## Scraping from Reddit"
   ]
  },
  {
   "cell_type": "code",
   "execution_count": 2,
   "metadata": {},
   "outputs": [],
   "source": [
    "import requests\n",
    "import seaborn as sns\n",
    "import matplotlib.pyplot as plt\n",
    "from bs4 import BeautifulSoup\n",
    "import praw\n",
    "from urllib.parse import urlparse\n",
    "import numpy as np\n",
    "import pprint\n",
    "import pandas as pd"
   ]
  },
  {
   "cell_type": "markdown",
   "metadata": {},
   "source": [
    "We need to use the reddit API with the praw package to access the data. Here's a link how to do that here:\n",
    "https://alpscode.com/blog/how-to-use-reddit-api/\n"
   ]
  },
  {
   "cell_type": "code",
   "execution_count": 10,
   "metadata": {},
   "outputs": [],
   "source": [
    "URL = 'https://www.reddit.com/r/IndieMusicFeedback/'\n",
    "\n",
    "page = requests.get(URL)\n",
    "\n",
    "bs = BeautifulSoup(page.content, 'html.parser')\n",
    "\n",
    "reddit = praw.Reddit(client_id='REDACTED', \n",
    "                     client_secret='REDACTED', \n",
    "                     user_agent='IndieMusicFeedBack Scraping')"
   ]
  },
  {
   "cell_type": "markdown",
   "metadata": {},
   "source": [
    "#The subreddit that I'm using is called r/IndieMusicFeedback. It's a music feedback forum for musicians and artists where each user is required to comment on 5 posts (with more than 110 characters) before they are allowed to post. \n",
    "\n",
    "https://api.pushshift.io/reddit/submission/search/?after=1577836800&before=1609459199&sort_type=score&sort=desc&subreddit=IndieMusicFeedback"
   ]
  },
  {
   "cell_type": "markdown",
   "metadata": {},
   "source": [
    "Now we need to access the data. I want to see what we can find for all of 2020 on this subreddit. Reddit uses unix time, so I'm using a basic converter I found online to save me some time: https://www.epochconverter.com/. \n",
    "Let's get a quick look at the data."
   ]
  },
  {
   "cell_type": "code",
   "execution_count": 11,
   "metadata": {},
   "outputs": [
    {
     "name": "stdout",
     "output_type": "stream",
     "text": [
      "Electronic Hi IMF, i proudly present my 2nd release \"Constant Signals - Retrospective\" (Release date 01 01 2021) out now on streaming platforms and mp3 stores. feel free to comment/like/share/follow https://soundcloud.com/constantsignals/retrospective-demo 1609459027.0 1 10 1.0 610\n",
      "Acoustic Rock Cover: Jane Says - Jane's Addiction | This is a very simple home made recording of Spanish guitar and voice and I'm looking for feedback. Thanks :) https://soundcloud.com/user-995385301/cover-jane-says-janes-addiction 1609458995.0 2 4 1.0 611\n",
      "90s New Jack Swing - Across The Pond. Man, the New Jack Swing style of the 90s was epic. ABC, BBD, Colour Me Badd, Boys To Men, was reminded of them and thought \"yeah, gonna drop that\" because it's my prerogative (see what I did there?). Hope everyone had a safe and as happy as can be New Years Eve! https://soundcloud.com/user-925999813/new-jacked-swing 1609457196.0 1 4 1.0 612\n",
      "Folk Rock So, this is different for me, but I have a folk-rock band (I'm the drummer and bassist) and the singer / lyricist wrote an amazing song about 2020 that I just had to share. We started tracking yesterday and finished mastering today. Any comments are welcome. Please enjoy \"Through The Lights\". https://tinyboats.bandcamp.com/track/through-the-lights-auld-lang-syne 1609453806.0 2 6 1.0 613\n",
      "Future Bass I made an EDM/Future bass-ish track, but decided to record an electric piano solo in the middle of it. I also experimented with major drops in an otherwise minor song, because I thought it adds a cool effect. Tell me what you think! https://youtu.be/td4COEK6QG0 1609453386.0 1 4 1.0 614\n",
      "Indie Pop a song i made with the guitar i got christmas https://m.youtube.com/watch?v=oqCf2HzB95M 1609450143.0 3 16 1.0 615\n",
      "Rock A Lo-Fi loop experiment + New Year message https://www.youtube.com/watch?v=M_Jk4txNhJ4 1609449031.0 1 8 1.0 616\n",
      "Indie Rock \"Calliope\" by Maximilien and the Honeywells -- Looking for any and all feedback!!! https://soundcloud.com/thehoneywells/calliope 1609448749.0 1 12 1.0 617\n",
      "Acoustic Rock I'm not a good singer at all, but I couldn't let anyone else sing these words. https://youtu.be/CLxnFZCw8W8 1609447543.0 4 12 1.0 618\n",
      "Indie Pop Hey IndieMusicFeedback! I would love your opinions on this song from my new album.Was thinking ofwas thinking of making it into a single. Sorry about the ad. I still need to upload it to my own channel https://youtu.be/5HFchVvo0j0 1609445210.0 10 34 0.92 619\n",
      "Soundtrack Just finished my last track of 2020. For those looking to step into a Shire'esque fantasy world, come on in and have a listen. And thanks to the IMF community for being one of the most supportive subs on Reddit! https://youtu.be/5GsIE5dxUKc 1609445005.0 1 4 1.0 620\n",
      "Hip-hop & Rap Local Rappers Local Rapping https://www.youtube.com/watch?v=yQOUlskSof4 1609444833.0 1 3 1.0 621\n",
      "Trap Fire Beat looking for some feedback! https://soundcloud.com/kevdub44-w/dont-you-see 1609444754.0 1 6 1.0 622\n",
      "Electronic \"Happy\" New Year (MIDI) https://www.youtube.com/watch?v=FSPjBbTomyU 1609444163.0 5 14 0.86 623\n",
      "Electronic I've been making music for a few months, and my favorite thing to make is video game music. I'd really like to get your guys' thoughts on this https://v.redd.it/cpz2g8cafk861 1609439234.0 73 34 0.96 624\n",
      "Folk & Singer-Songwriter Ephemeral - Give Me Your Heart (feat Phantom Lord Chi) https://soundcloud.com/fmrltunes/give-me-your-heart 1609433937.0 2 17 1.0 625\n",
      "Classic Rock Where's the Mute? by CW Mullins | Free Listening on SoundCloud https://soundcloud.com/cwmullins/wheres-the-mute 1609433470.0 2 14 1.0 626\n",
      "Hip-Hop & Lofi hey, I would love to hear some feedback on my newest song \"CHANGES\" as I spent several days editing the music video haha. I teamed up with my friend who made the beat so I hope you enjoy :) https://www.youtube.com/watch?v=PeEI4M3TDm8 1609430602.0 1 7 1.0 627\n",
      "Alternative Circuit Breaker - a psychedelic blues track with a far-future dystopian theme. The glitchy/modulated vocals to complement the story were a lot of fun to mix. Curious what you all think of it! https://soundcloud.com/delsquare/circuit-breaker 1609429579.0 5 16 0.86 628\n",
      "Grunge We are a grunge band from Spain. This is our first single \"Once\". It would be nice to have your opinion :) https://youtu.be/ihY5f4vqP6w 1609427673.0 3 24 1.0 629\n",
      "Indie Rock Born Again Basil - A abstract rock song about the POV toxic relationship between my basil plant and I. The musical concept of the song was to continually evolve the song and never return to a previous segment, as well as to continuously catch the listener off guard but in a pleasant fun way. Cheers https://soundcloud.com/thehappykarma/born-again-basil 1609425709.0 24 61 0.97 630\n",
      "Electro Funk I made this song by using ONLY ONE sample, for the #ChuckSnareChallenge :) It was a lot of fun and I would like to get some feedback on it! Is the mix good? The structure? https://soundcloud.com/rasmusmalmborg/the-snare-song 1609420211.0 9 22 0.92 631\n",
      "Dance My new Track „Galaxy“ - out of this world you could say 🔥😄 https://soundcloud.app.goo.gl/1SpjsuuJesreQeMDA 1609414190.0 1 4 0.67 632\n",
      "Drum 'n Bass A clip from a song I'm working on, mostly interested in feedback on the vocals as I spent the better half of a day recording them. (and the last 2 years learning to sing - still have lots of room to improve!) https://soundcloud.com/commonmotives/worth-your-time-demo 1609413416.0 1 11 1.0 633\n",
      "Hip-Hop & Lofi Hey everyone it's been a while since I could make a song since I just had a baby but I'm happy to be back and posting wanna wish you all a happy new year and let me know if you like it 😊 cheers https://youtu.be/_nM-JqTF8vk 1609402058.0 1 4 0.67 634\n",
      "Alternative Rock Hoping y'all listen to this single from my friend and I's rock album we made at home and give some feedback. Thank you and happy New Year everyone! https://audius.co/bigduckstudios/dont-you-know-208540 1609395225.0 3 6 1.0 635\n",
      "Lofi A track I made where it’s in the setting of meeting someone new in your life and all that it comes with in conversation. https://open.spotify.com/track/5eqcyrz4XjfpmVbDi6usEI?si=Rjsqd8FoQga6w1sg0EMS5Q 1609392980.0 3 7 1.0 636\n",
      "Ambient Dr Johnny Bananas 10-16-20 In Synthesis with Infinite Is Hr2 improv set by Infinite Is https://soundcloud.com/theinfiniteis/dr-johnny-bananas-10-16-20-in-synthesis-with-infinite-is-hr2-improv-set 1609380703.0 2 7 0.75 637\n",
      "Lofi Pop looking for feedback on a new song \"teenage dream\" - trying to improve my sound/mix https://soundcloud.com/d_prest/teenage-dream 1609377039.0 1 14 1.0 638\n",
      "Indie Pop My new single has made it to 3 radio stations so far! I'm especially looking for feedback on production, mixing, and mastering, but I'd really appreciate any thoughts you have! Thank you so much for listening :) https://open.spotify.com/track/2mmKgTkXuceqqQLjVSQxXI 1609374460.0 16 55 1.0 639\n",
      "Indie Rock A new single of mine. Tried to make something different. Would love any honest feedback! https://youtu.be/fyvuwjr4c38 1609374177.0 14 30 1.0 640\n",
      "Electronic Instrumental HexEjecting into Hyperspace 10-16-20 In Synthesis with Infinite Is Hr1 improv set by Infinite Is https://soundcloud.com/theinfiniteis/hexejecting-into-hyperspace-10-16-20-in-synthesis-with-infinite-is-hr1 1609371282.0 2 4 1.0 641\n",
      "Cinematic Guardian by Jimmy O’Keefe and Friends https://youtube.com/watch?v=QICNEgNqk3U&feature=share 1609369599.0 3 15 1.0 642\n",
      "Art Pop Here's a distorted dreamy little number. How do you like the chords and the melody? Does everything flow together? Do you like the songwriting? Does it make you feel anything? Does it rock too hard? Any feedback is appreciated! Stay safe out there ~.~ https://thefamousnothings.bandcamp.com/track/molecules-they-split-and-than-demo 1609369320.0 3 13 0.81 643\n",
      "Soft Rock My band released an EP recently and I made a music video for one of the songs Midnight Saturday. It’s just an acoustic guitar and my vocals in this song, but the rest of the EP has more rock elements. lmk what you think https://youtu.be/ie7MwNioQ_s 1609369165.0 3 9 1.0 644\n",
      "Indie New song what you think https://youtu.be/ZhlWpPd1E9w 1609365220.0 15 21 1.0 645\n",
      "RnB My first song underneath a new moniker, Winter Orange. Any criticism is valued, if you really like it, I'd appreciate considering a follow x https://www.reddit.com/r/IndieMusicFeedback/comments/kna6p0/my_first_song_underneath_a_new_moniker_winter/ 1609360413.0 4 18 0.83 646\n",
      "Cinematic Hi, I've released a new instrumental single called HARAT and I'd like to share it with the IndieMusicFeedback people. Thanks for listening and happy holydays! https://un01m.bandcamp.com/track/harat 1609360302.0 24 18 0.97 647\n",
      "Electronic I just finished my album but I'm having trouble figuring out where it fits as far as genre and similar artists. It's Electronic, but not sure it even fits there. https://youtu.be/YRzVt6XSr7Q 1609358141.0 4 9 1.0 648\n",
      "Indie Rock David Bowie got me into music so I covered his first single (full band arrangement)! Lady Charles - Can't Help Thinking About Me https://open.spotify.com/track/08LHQpGFXvVjcH69iqU2uU 1609356263.0 8 11 0.91 649\n",
      "Experimental Looking for feedback on a dark Christmas song that fits in with 2020. https://www.reddit.com/r/IndieMusicFeedback/comments/kn8am3/looking_for_feedback_on_a_dark_christmas_song/ 1609354705.0 1 4 1.0 650\n",
      "Indie quite new to music production so the mix aint the best. let me know what you think about the arrangement/mix/anything really! https://soundcloud.com/gabeygoo/lets-ride 1609353544.0 4 19 1.0 651\n",
      "Hip-Hop Been a year that I have been posting here, hope you like my new boom bap instrumental (and have some thoughts on it😆) https://youtu.be/wbZi4VJ0f7w 1609349319.0 6 14 0.88 652\n",
      "Hip-hop & Rap (RAP) New song I put out jJ - I CAN https://www.reddit.com/r/IndieMusicFeedback/comments/kn5uxt/rap_new_song_i_put_out_jj_i_can/ 1609347331.0 1 1 1.0 653\n",
      "Electronic Instrumental There are a few issues on this and just wondering if you notice the same ones I do. Thanks for taking a listen. https://youtu.be/pp81z0F2y9c 1609343689.0 12 26 0.93 654\n",
      "Instrumental Daniel Diaz - Born Under Scorpio Skies [instrumental experimental], neoclassical meet soft rock. https://open.spotify.com/track/2Qg0kkR1C81gTi0y6qWZfO 1609332999.0 3 14 1.0 655\n",
      "Indie Rock My first ever song after countless delay due to worrying too much. I am going for the acoustic piano and vocals and I'm pretty new to the DAW in's and out's so please go easy on me. Also like and subscribe if it is your cup of tea. Also I'm a bit confused about my genre. Thank you. https://www.youtube.com/watch?v=PjAlSebHptI 1609332859.0 11 39 0.83 656\n",
      "Pop I don't know what to think about this. Sometimes I like it and other times I don't. Should I finish this? It would have vocals and a drop if I were to finish it. Thanks for your time! https://www.dropbox.com/s/6s6gwzsqjl585rj/i76.aif?dl=0 1609310737.0 4 11 1.0 657\n",
      "Experimental finally finished this bullshit dead track that was lost to time. this stupid idiot track is SO a FUCK. DIIIIIIIIII. this made an ERR???0R in my c0mpYo0T3rrrrrrr https://soundcloud.com/sertulariae/pixel-dart 1609300442.0 3 15 0.64 658\n",
      "Trap Oolex N Bern - Last Man (British Hip Hop Beat) https://www.reddit.com/r/IndieMusicFeedback/comments/kmt7wp/oolex_n_bern_last_man_british_hip_hop_beat/ 1609296225.0 0 5 0.5 659\n",
      "Emo Rap Released this RAP song on Christmas. With a hint of DOCTOR WHO bad-wolf-end-of-dayz artwork and a voice sample from Matt Smith and some experiential greek rap on it. GREEK & ENGLISH subtitles on the lyrics so you can all understand the feeling and what i am talking about! What do you think of it? https://youtu.be/xrNwjxEXs5o 1609292795.0 1 8 1.0 660\n",
      "Alternative Rock \"Butterflies\" by Paper Bags | Two Detroit Based Musicians Collaborate Over The Internet On New EP - Is It Rock? Grunge? Alternative? We're Not Sure But We Had Fun Making It And Would Love To Know What You Think! https://paperbags.bandcamp.com/track/butterflies 1609292581.0 2 12 1.0 661\n",
      "Indie Pop Just released a song about someone Gaslighting me. Would love some feedback, it’d be much appreciated. https://open.spotify.com/track/6GYrva9ooNLV9mzJQTGHaP?si=-pM1K3ckQ92EqgjWqjoUDA 1609292157.0 1 17 1.0 662\n",
      "Indie Rock Lady Charles - On The Downlow (Of Montreal/Ariel Pink inspired indie rock story song) - Specifically would love to know what genre/artists you find similar. Hope you enjoy! https://open.spotify.com/track/7s1GSNUNT8sbV2k2KPB4sY 1609290737.0 2 5 1.0 663\n",
      "Trap My latest single just came out (future beats / storytelling) https://www.reddit.com/r/IndieMusicFeedback/comments/kmrgb4/my_latest_single_just_came_out_future_beats/ 1609290196.0 6 14 0.81 664\n",
      "Alternative Rock Looking for perspective on this unreleased song, I keep going back and fourth liking it to hating it. This is a ruff mix im really looking for perspectives on the song. I have been tweaking it too long and IDK if it feels good or if it gives the listener anything. too Wholesome? or corny? be honest https://u.pcloud.link/publink/show?code=XZxyFQXZt6XTosrEiBy05R5xQC1pNkcsJrNk 1609288027.0 1 16 0.66 665\n",
      "Hip-Hop & Lofi Made a new beat using a sample from Avatar. Lmk how it sounds. All thoughts and criticisms on the production appreciated! https://soundcloud.com/ceddachef/fly-away 1609287281.0 1 10 1.0 666\n",
      "Indie This is a song I worked on, my part is the rap towards the middle of the song. I was wondering if I could get some feedback and just overall opinions. Thank you https://v.redd.it/k9iy9mp0o7861 1609284697.0 1 8 0.66 667\n",
      "Pop Originally started making music for game development purposes. Took a song writing course and started making video gamey dance songs with pop song structures. Let me know where I can improve happy new year friends. : ] https://youtu.be/MG7TuMRZMjk 1609283372.0 5 12 0.85 668\n",
      "Pop icyki | lovestruck; the mix is pretty awful but i like how it turned out https://soundcloud.com/icyki/lovestruck 1609277282.0 2 8 0.75 669\n",
      "Lofi Trying to make more full instrumentals rather than just ‘beats’ so I’m experimenting with layering solos and other instrumentation. Thoughts on this and what the genre would be? Lofi? https://www.youtube.com/watch?v=zYpIuG4Sj_U 1609276301.0 30 30 0.88 670\n",
      "Indie \"Less is More\" - my second song posted here, I’d like some feedback on the quality of the mix 🙏 https://youtu.be/YvGwvOLXZgc 1609276212.0 3 23 1.0 671\n",
      "None Alternative song I wrote about growth. Would love some constructive criticism in terms of songwriting, arrangement and/or mix. Thanks. https://youtu.be/BgNNDOYSOHU 1609275488.0 1 27 1.0 672\n",
      "Cinematic My latest piece: \"Steaming Through Time\" (Epic Fantasy Orchestral) maybe even some Steampunkish flavors in it? Project name for song was Bipolar Express, can you guess why? All kind of feedback is appreciated! https://youtu.be/sac7VQ889_w 1609272442.0 1 4 1.0 673\n",
      "Indie Folk Hey guys, I'm a big fan of this community and love having a space to hear everyone's songs. Last time I posted here, I got great feedback and I would love some feedback on my cover of 'I'm on Fire', I'm going for a Bon Iver vibe. Please let me know what you think and share your songs with me :) https://open.spotify.com/track/38bU57xMZbxRz83gXsNspk 1609271288.0 1 4 1.0 674\n",
      "Alternative DR SATSO - Ode To An Alchemist. This is a strange one to pin down genre-wise and is a far cry from the rest of the project. With its synth heavy bedroom psych bass groove, we felt it too catchy not to release anyway. Let us know your thoughts - thanks! https://www.youtube.com/watch?v=wt2BB8lvjxA&list=PLZ15q0_m6fvt6OKQNvQ_wl20hyLUwiKjH&index=5 1609269055.0 14 46 1.0 675\n",
      "Electronic I posted this remix I did for a competition here a few days ago. I took the feedback and improved the mix/master. Would love some feedback/support! For fans of Flume or Drum and Bass :) https://soundcloud.com/gregormcmurray/aries-conversations-gregor-mcmurray-remix 1609260382.0 3 9 1.0 676\n",
      "Electro-Industrial Made this song and I want to know what you think. It doesn't have a name yet and it's not 100% complete. (Warning unmixed and loud) https://soundcloud.com/user-130193533/1a-1/s-30YxQvuIJXM?ref=clipboard 1609260322.0 1 5 1.0 677\n",
      "Progressive Rock I make instrumental music as though it were a soundtrack to a short film. There are scene changes, and characters that move in and out of the short story. This one features a lonesome slide melody and... hope you like it! https://www.reddit.com/r/IndieMusicFeedback/comments/kmhas7/i_make_instrumental_music_as_though_it_were_a/ 1609258548.0 10 11 1.0 678\n",
      "Garage Rock Had an idea for a grungy rock song so I made it in my garage. Think pixies with more melody. Might redo the vocals. https://soundcloud.app.goo.gl/NRwNC5HyzPCAbR9g9 1609250700.0 24 39 0.91 679\n",
      "Hip-Hop Hello! I am a 16 year old christian hip hop artist from Poland, and this is my new music video, I appreciate any feedback! Thank you! https://youtu.be/2YGBAIw8S7Q 1609248155.0 3 7 0.71 680\n",
      "Alternative A tune I made called Solomon Sane. https://v.redd.it/870q09js84861 1609243337.0 1 4 1.0 681\n",
      "Alternative Rock First song i’ve released on my own. Recorded, produced and mixed everything myself at home. Been writing songs for the last 2 years and this is the first time i’ve gained confidence to release. I have about 50 songs ready to go. [Danger In Me - Burning Jacobs Ladder] https://open.spotify.com/track/4dcvTcsyzUcNgFLWU52CQN?si=sTW4FKjCTdKxLxEFdgvFOg 1609241633.0 7 28 0.9 682\n",
      "Instrumental The Ghosts of Searchlight- Mr. Potatohead Goes to Sunday School: Surf Rock? Post Rock? Post-Surf? What genre would you call this? https://youtu.be/Yq4dUubkohQ 1609235430.0 3 11 1.0 683\n",
      "Indie Pop New Years Baby! I just posted this on YouTube, it’s a promo video for our next release and I’m trying to figure out how to market to a wider audience. Any feedback is welcomed, thanks https://youtu.be/IkS2GvzOfgI 1609233555.0 5 14 1.0 684\n",
      "Synthwave I Used to Dream by Emerald Orbit. A track from my new album that I tried to make sound like it was sampled from mixed decades and genres. Any and all feedback is appreciated. https://open.spotify.com/track/7xqpsU1DrL3u5k7UPFx7ER?si=mxKEpMHuSBqjNJrotN4-Sw 1609233311.0 2 15 1.0 685\n",
      "RnB Chill Indie song about being stuck at home while your love is away - I uploaded another version earlier but wasn't quite right. Hope you guys like it and please give any feedback on how I could improve it. Thanks! https://soundcloud.com/oddsea1/come-back-1 1609232179.0 3 12 1.0 686\n",
      "Rock Unite The Divide - The Voice Within. This is our third song and we have no intention of slowing down. This is the power of the this sub. It brings people together and without it, Unite the Divide would not exist. I would appreciate any notes on how this song makes you feel. Rock on! https://www.youtube.com/watch?v=d3buSz2rCSU 1609230712.0 3 16 1.0 687\n",
      "Indie Pop [Emo Rap/Future Pop] Should I hire someone skilled to mix this proper? https://soundcloud.com/hmmmmmmmmmmmmmmmmmmmmmmm/shotgun-14?ref=clipboard&p=i&c=1 1609226639.0 3 14 1.0 688\n",
      "Instrumental Here's my greatest work so far. A synthwave-y instrumental with guitars and Blade Runner reference. It's been hell of a year and this is my way of ending it on a high note. Feedback appreciated. https://soundcloud.com/chillaid-pl/tears-in-rain 1609226183.0 9 21 1.0 689\n",
      "Pop Switching up my sound \"L.A. SUGAR\" would love feedback! https://youtube.com/watch?v=lIv8j8jL5ao&feature=share 1609219995.0 1 9 1.0 690\n",
      "Lofi Made this lofi beat for the holidays! Good enough for ChilledCow? https://youtu.be/nuFBTwJfzI8 1609217525.0 2 8 0.75 691\n",
      "Chillhop Free Island by Monteq | I worked on this lofi/chillhop track and I'd love your feedback. Let me know what you think! https://soundcloud.com/monteqmusic/free-island 1609212696.0 3 9 0.81 692\n",
      "Acoustic Rock A song about my love/hate relationship with depression and the isolation that followed. I hope you enjoy track 9 of my 4th album! Visit my YouTube channel for album 5! https://youtu.be/KDZXjYc4sNE 1609211633.0 2 6 1.0 693\n",
      "Hip-hop & Rap I produced and recently made the video for this track. The rapper is a fellow IMF user. Hope you guys enjoy! https://www.youtube.com/watch?v=nhWu9bkJcSA 1609211404.0 7 9 1.0 694\n",
      "Folk Vi - iKrig [Experimental Norse-folk/dark folk] | The first song of my new album, I would love to get some opinions before I publish the rest of them. Going for a primal, ancestral feel. https://www.youtube.com/watch?v=eoLjBeApRzk&feature=youtu.be 1609205532.0 3 10 1.0 695\n",
      "Electronic Instrumental Trying to make electronic music that has a little ...organic warmth to it? How do I make it better? https://youtu.be/y-9845WbJC0 1609201443.0 7 12 1.0 696\n",
      "Songwriter A song I wrote called Junkyard Messiah. https://v.redd.it/wyrbk5keb0861 1609195759.0 79 24 0.92 697\n",
      "Pop This is a Christmas song I made and produced. It features my Brother and his family. Any feed back is appreciated. If you enjoy be sure to leave it a like and share with your friends! Thanks much and happy holidays! https://www.reddit.com/r/IndieMusicFeedback/comments/km0mzi/this_is_a_christmas_song_i_made_and_produced_it/ 1609194579.0 3 2 1.0 698\n",
      "Hip-Hop & Lofi [FREE FOR PROFIT] Mavi x Earl Sweatshirt x Navy Blue Type Beat - \"Joy\" https://youtu.be/HfsL1S6YLN8 1609192587.0 3 2 1.0 699\n"
     ]
    },
    {
     "name": "stdout",
     "output_type": "stream",
     "text": [
      "Ambient Trap DreaMeter & Oliv - Cloud Up -- looking for postmortem feedback on this melodic trap beat that I can apply to future mixes. Any feedback that comes to mind is useful, thank you! https://soundcloud.com/dreameter/cloud-up 1609187889.0 1 6 1.0 700\n",
      "Folk & Singer-Songwriter Daniel Stephen Turner - Eventually. This is one of my favourite songs that I have written so far. The recording isn’t perfect but I would love to hear what you think. https://open.spotify.com/track/5eSja7MfdLox4KfkVnQUrW?si=QdeWlab2TRuBSVqmJrestA 1609185071.0 1 13 1.0 701\n",
      "Alternative Rock This is a track I've been working on for awhile: \"Words.\" Going for an epic feel in this one and trying to combine synth vibes with big guitars. Do I get there? What do you like? What would you improve? Anything helps. Thanks for listening. https://soundcloud.com/10-000-20th-century-chair/words 1609180700.0 5 19 0.86 702\n",
      "Synthwave Hi! My band Dead Rituals normally plays alternative rock music, but a French producer turned one of our songs into a synthwave piece! His synths remind me of some early John Carpenter soundtracks! Is there any recent artist in this style you'd recommend? Hope you dig this one! https://open.spotify.com/track/3rbO1wGXE3Mcg9B8viG1bQ?si=-ahSy3jjRxqTm3BbvVXAkQ 1609178553.0 5 16 1.0 703\n",
      "Hip-hop & Rap Zig Da Kid - ACTION https://www.youtube.com/watch?v=m0k7WCHEiFw 1609174965.0 3 16 1.0 704\n",
      "Atmospheric [Ambient] [Space] [Guitar] Doomerwithguitar - Earth https://www.youtube.com/watch?v=WuL5NTomC5E&ab_channel=Doomerwithguitar 1609163717.0 6 17 0.88 705\n",
      "Indie Rock Hey indie peeps, got inspiration 2 days ago and made this, what do you think, how does it make you feel? https://soundcloud.com/natsukashiiii/it-will-get-you-back/s-H5KCvdc5bnW 1609163708.0 1 11 1.0 706\n",
      "Indie Hey IMF, here’s The U Club, some Indie Rock from London - keen to hear your thoughts 🧠 https://youtu.be/VMWN1xw3IU4 1609161949.0 20 48 0.9 707\n",
      "Trap \"smokemydope\" - Stand COMETHAZINE REMIX by lastname strange https://soundcloud.com/b_l_123456789/smokemydope 1609156845.0 2 14 1.0 708\n",
      "Hip-hop & Rap finally done upgrading room acustics and table in studio and i can work again. This is first track i made and would love to hear any feedback on it https://www.youtube.com/watch?v=zaKFmpe_zE0 1609153786.0 1 18 0.67 709\n",
      "Hip-hop & Rap Xavier - The Flip (music video) [Song featured in NBA 2k21 Next Gen] https://youtu.be/by3IRdVGV-c 1609135003.0 0 4 0.33 710\n",
      "Instrumental Hey guys! Been in my feels for pretty much all of 2020 and have been working on a bunch of instrumentals. This is one of the songs I have been working on. Hope you guys like it! https://soundcloud.com/xavierondevillamusic/a-place-to-call-home 1609130845.0 1 13 1.0 711\n",
      "Hip-hop & Rap This is one of my first songs I rap on it’s called. Any https://soundcloud.app.goo.gl/ufC7Jcmi1TYAkErG6 1609127469.0 1 2 1.0 712\n",
      "Techno Matsumura Fishworks (yes it is from the Simpsons). I think it's techno but not 100%. Been tryin gto finish off more and more projects and this is a song I've sat on for a while. Any feedback would be terrific! https://soundcloud.com/generalconsensus/matsumura-fishworks 1609127355.0 2 8 1.0 713\n",
      "Electronic the beginning of the endof one of my songs from my upcoming album coming out jan 30th. this song was tons of fun to make and unlike anything i’ve ever made. https://v.redd.it/9fgo06omdu761 1609123929.0 20 30 0.79 714\n",
      "Lofi Jazz Would really appreciate any feedback on this lo-fi instrumental https://youtu.be/r9T-piix3r8 1609123254.0 4 27 0.75 715\n",
      "Lofi Rock First Post here! Lofi multi-instrumentalist. I really dunno what sub-genre I belong in. Maybe you can help? https://www.reddit.com/r/IndieMusicFeedback/comments/klh8f3/first_post_here_lofi_multiinstrumentalist_i/ 1609122535.0 1 5 1.0 716\n",
      "Lofi Pop experiencing a of emotions during the holidays so I wrote a song --> nostalgia https://soundcloud.com/d_prest/nostalgia 1609113026.0 2 12 1.0 717\n",
      "Folk & Singer-Songwriter “Somebody like you” I’m a singer songwriter but I decided to put a beat over this song. I think i like how it came out. Lmk what you think https://youtu.be/UXV0Cqoa-WE 1609111305.0 6 14 1.0 718\n",
      "Indie Pop Hey r/IMF fam, Thanks for a solid 2020. Wishing you a safe and prosperous 2021! https://www.youtube.com/watch?&v=bdtbTOrq4MQ&feature=youtu.be 1609108019.0 7 25 0.89 719\n",
      "Folk Rock I Sold My Soul by Tir Nan Og. I hope you like it. BTW: It's cake day on r/tirnanogband https://open.spotify.com/track/3l9g8aO2xnpooNzeJzSTee 1609106561.0 5 14 0.86 720\n",
      "Hip-Hop Just dropped a new song on some dark experimental vibes. Hope you guys like it! https://soundcloud.com/khode-248149108/northwestghost-sacrifice 1609099472.0 2 18 1.0 721\n",
      "Progressive House Tomi Kokki - Fakie Roller [Progressive House, Trance] (11th track from my soon to be released album, just one more to go after this. This time I tried to make the kind of \"rolling\" Progressive-House that DJ's like Dave Seaman and Lemon8 among others used to play, with some added Trance vibes) https://soundcloud.com/user-394274214/11-tomi-kokki-fakie-roller 1609096117.0 1 2 1.0 722\n",
      "Instrumental Hip Hop Kanye inspired sampled track with some original instrumentation added. Lmk what you think :) https://youtu.be/9Ia5n3JwfOg 1609094961.0 3 17 1.0 723\n",
      "Instrumental How does this music makes you feel? https://www.youtube.com/watch?v=Ic5PzWSlRqI&ab_channel=AlmariadoRecords 1609091687.0 5 34 0.78 724\n",
      "Indie Rock Lluvia (Rain) - The Piggy ... This a new song from my band... Is a Spanish song but you can active the English subs https://youtu.be/D-BvEMrELmQ 1609086806.0 5 15 1.0 725\n",
      "Atmospheric My first ever track with visualisation. What do you think about it? I wanted it to be atmospheric. https://www.youtube.com/watch?v=hU7fNLho1hU 1609085523.0 5 24 0.86 726\n",
      "Folk & Singer-Songwriter An original song I wrote about a notorious wild west legend - Calamity Jane https://youtu.be/_rUNA_SrFQ0 1609078696.0 29 47 0.98 727\n",
      "Hip-Hop My latest hip hop beat, think it's got kind of soulful sample for the chorus and hard verse. All feedback would be appreciated, but if you have any thoughts on improving the mix, that would be great. Thanks https://youtu.be/6DnppWY7Zzk 1609074612.0 1 8 1.0 728\n",
      "Electronic Instrumental So this song was supposed to be on the next album. Then I pushed it to a later release and now I'm thinking outtakes. Don't know why I'm not jiving with this cos I think the mix turned out all right. Just cheesy? What do you think? Why do YOU hate it? Lol https://youtu.be/pUh5vesXwRw 1609069462.0 7 28 1.0 729\n",
      "Chiptune  This is a chiptune-ish song meant to represent a fanfare announcing the arrival of an alien queen. I'm not too used to write in major so I did my best, I hope I did good. https://open.spotify.com/track/3kr0o4nsvSjpcxLHTvVS3N?si=S9iztCUBTPW2PGQGS5-wZQ 1609061493.0 8 15 0.84 730\n",
      "80s Can't Get You Off (My Mind) - [QUESTION] If you knew without any doubt, not even a non-zero chance of being wrong, that you were not human, not of this Earth, (alien, robot, whatever...just not human), you were unique & different than the other 7 billion people on the planet...would you tell anyone? https://soundcloud.com/user-925999813/cant-get-your-off-my-mind 1609049769.0 2 8 0.75 731\n",
      "Grunge Feedback Requested For Grunge Rock Song (About To Release) https://www.reddit.com/r/IndieMusicFeedback/comments/kky6do/feedback_requested_for_grunge_rock_song_about_to/ 1609047550.0 2 12 1.0 732\n",
      "Indie The first track off of my last ep, about a person who hits their head on a counter. Would love to get some feedback on this as I am working on new music and I would like to know what I can do better https://soundcloud.com/dandyfromhome/the-fall 1609047114.0 1 11 1.0 733\n",
      "Trap One of my harder tracks (electronic / global bass) https://www.reddit.com/r/IndieMusicFeedback/comments/kkx5e8/one_of_my_harder_tracks_electronic_global_bass/ 1609043381.0 3 9 1.0 734\n",
      "Other Yet another departure from my usual sound, this time in the opposite direction. This is the first song in a narrative EP I just released this morning. Sort of a mix between Young Thug, James Blake, Travis Scott, and The Weeknd. \"Heist I:action\" by andrésio. [future R&B] https://open.spotify.com/track/43xuNMHwGNDhRUmj26KzLA?si=9cyaqt4vRoyIH0SS5JkT1w 1609038986.0 10 10 1.0 735\n",
      "Cloud Rap \"Sprite\", already posted this on discord a couple days ago but thought id see what the reddit fam has to say about it, lmk and thx! https://www.reddit.com/r/IndieMusicFeedback/comments/kku0df/sprite_already_posted_this_on_discord_a_couple/ 1609031042.0 1 5 1.0 736\n",
      "Post Rock Burloak (Cityscapes 10) - by HANKUS.... a midwest-esque chillhop/post rock tune! Hope you enjoy it, i think it turned out as one of my favourites. https://soundcloud.com/thehappykarma/cityscapes-10 1609026674.0 2 16 1.0 737\n",
      "Indie Folk A little acoustic track I released this year. Let me know your thoughts. Hope you enjoy! https://jportrait.bandcamp.com/track/molly-dont-give-up 1609024515.0 10 32 1.0 738\n",
      "Dream Pop howdy everyone, if you haven't already heard, please check out my new song titled SAME SONG. it's a smooth indie pop track with hip hop undertones. feedback needed! https://open.spotify.com/track/3IZreBKogodcgNxqRdEL9c 1609020939.0 1 10 1.0 739\n",
      "Metal Here is my cover of King Crimson's Red. I really tried to make the guitars heavy. I'd love feedback on the mix, especially the guitars, but also, anything else that can use some improving. Thanks. https://youtu.be/WS2-jX_kbLQ 1609020882.0 2 7 1.0 740\n",
      "Experimental McxDoomBlunt- Aaron Geiser of Huntington Beach California is a Kill Stealing Troglodyte Cock Goblin Who Tickles The Testicles of Strangers With a Feather Duster While They Sleep Also He Suck Ass At Call of Duty and I Won The Weed Smoking Contest 7 Years Ago Eat My Ass (Just want honest thoughts) https://open.spotify.com/track/2y7QBG5K7J4JcvdVJccAnk 1609020056.0 1 5 1.0 741\n",
      "Darkwave Psychedelic dub with some post punk influence that forays into indietronica—Instrumental for now, as I’d love some pointers on the mix before adding vocals/samples https://www.reddit.com/r/IndieMusicFeedback/comments/kkpdn3/psychedelic_dub_with_some_post_punk_influence/ 1609014794.0 2 10 1.0 742\n",
      "Acoustic Rock Heroes - David Bowie Cover - I like the way this turned out, so I thought to myself, \"You should post it on the internet so it can be torn apart.\" I always have pretty good ideas! https://cinnamon.video/watch?v=483223949744801019 1609013400.0 2 12 1.0 743\n",
      "Synthwave Been having some trouble finding my own tracks interesting lately, landed on something today would love some feedback/thoughs :) https://soundcloud.com/user-278514529/distant-echoes/s-SVX6bLrRkGG 1609010479.0 5 11 1.0 744\n",
      "Ambient Techno/IDM my new electronic instrumental song! it's a mix between ambient and percussive stuff i hope you guys enjoy. all feedback welcome! https://soundcloud.com/solconcordia/forever 1609005051.0 2 11 1.0 745\n",
      "Hip-hop & Rap Happy holidays! Here's a lyric video for an original song that talks about how melancholic nostalgia is. It'll be dope to hear your thoughts about it. https://www.youtube.com/watch?v=Q-HASRoCMiU&ab_channel=PonySlaystation 1609001733.0 4 19 1.0 746\n",
      "Hip-hop & Rap This track was inspired by a night out fueled by all types of illicit substances. I am not a native english speaker so i hope i can surprise some of you here. Imagine Rich Brian if he was brown skinned and had a baby with JPEGmafia or whatever idrk https://youtu.be/2gNfYQMYWrc 1608999735.0 7 13 0.89 747\n",
      "Instrumental Hey! I just released this funky vintage instrumental and I wanted to share it with you. Give it a listen, some feedback or even a roast. Hope you like it! :) https://youtu.be/fXKRm6A1Ucw 1608999194.0 11 33 0.93 748\n",
      "Songwriter After a lot of push n pull with doubt and confusion, I've started releasing songs that I'd shelved. Here is my 2nd song 'Landfill'. I'd love to hear what you guys think of it :) https://www.youtube.com/watch?v=eGi447l2_mM 1608996713.0 28 44 1.0 749\n",
      "Experimental Been having a few haters on here cuz my music is kinda experimental and harsh, but I still love ALL of you, let me know what y’all think of this! https://youtu.be/5sDFLUYpwEI 1608996505.0 19 26 0.83 750\n",
      "Pop I did an Acapella Medley of the songs in the musical HAMILTON. This was an ambitious task, so I want to share it with you, and I'd love to get some constructive feedback 😃 https://youtu.be/g-LxN34p91E 1608995950.0 2 4 0.75 751\n",
      "Hip-hop & Rap \"Hunt The Timber\" Beat Tape ft. Los Sol , we made this as a Christmas thing 😁💯 would love to you know your opinions 💎 Bless you all ❤️🙏🏽 https://youtu.be/xBU_OZBzQHY 1608994573.0 2 12 1.0 752\n",
      "Chiptune  LeachLurker - Blockade - had a creative block of ages and finally made this hope u enjoy https://youtu.be/iwaYY8PKIEs 1608994025.0 4 20 1.0 753\n",
      "Shoegaze Novelistme - Ascend https://ampl.ink/2Lj1K 1608992330.0 3 6 1.0 754\n",
      "Chillhop Hello i made this chillhop track. It is still a demo but it would be awesome to hear what you all think of it and how to improve it! Overall thanks again and hope you have a chill holiday:) https://soundcloud.com/user-15619224/serenity-demo 1608990192.0 8 32 0.91 755\n",
      "Pop Looking for which artist I remind you of and what harsh criticism you can give me! I will feedback your tracks in return! https://www.reddit.com/r/IndieMusicFeedback/comments/kki2aj/looking_for_which_artist_i_remind_you_of_and_what/ 1608986701.0 3 11 1.0 756\n",
      "Indie Rock We (Wois' ie) just published our first song called \"Siren\" and we would love to hear your thoughts! https://open.spotify.com/track/3qAqjRaWyFLCpRT7KUSQjh?si=VvdcmkARTY-PG9qQzErvww 1608984332.0 12 15 1.0 757\n",
      "Pop I have three songs on spotify and I was wondering what artists you would compare me to? https://www.reddit.com/r/IndieMusicFeedback/comments/kkh29h/i_have_three_songs_on_spotify_and_i_was_wondering/ 1608981447.0 11 38 0.77 758\n",
      "Hip-Hop This is a track I just released with a Bone Thugs N Harmony inspired vibe to it, I produced the beat for it as well, let me know what you think of this one https://youtu.be/MqRvxsgB92Q 1608977797.0 7 30 1.0 759\n",
      "Pop Made a Pop song for my 5-year-old niece. She loves unicorns, dancing, and \"doing art\". She's the greatest little bean on the planet and this was one of her Xmas gifts. I hope she, and all of you, enjoy it. https://soundcloud.com/hfs1983/izzy 1608956886.0 2 5 1.0 760\n",
      "Hip-hop & Rap Interpolation of White Christmas (just in the hook) on a rap song I made back in 2018. I was more of a beginner, but It's one of my favorite songs. https://www.youtube.com/watch?v=sDLMBo9AD34 1608952941.0 1 6 1.0 761\n",
      "Pop Punk Santa Claus is Coming to Town (Sugarcult Ver) Cover https://www.youtube.com/watch?v=axYVp0ZCg54 1608952649.0 3 14 1.0 762\n",
      "Hip-hop & Rap “Distractions” a short song I wrote about using music to break free, let me know what you think, much love https://youtu.be/uS-Nlnz_oBI 1608949603.0 10 11 1.0 763\n",
      "Hip-Hop Merry holidays everyone! My friend just dropped this track. We are both pretty new to producing and flowing so any advice is welcome. Good or bad, lay it down! Cheers! https://www.youtube.com/watch?v=BSBau52vr98 1608942446.0 8 9 1.0 764\n",
      "Other This is a departure from my usual aesthetic but I have been driving in the rain to it and its getting me juiced for my future sound. happy creating, everyone. \"Eucalyptus\" - andrésio https://open.spotify.com/track/2cZekCZSIkE6pTH04opF35 1608935780.0 20 31 1.0 765\n",
      "Progressive House Hi guys! hope y'all good, i released a new track called \"Unity\", it's such a lovely track perfect for the holidays and to spread PLUR vibes around the world! thank you all for the chance of posting it here! I hope you like it and let me know what you think about it! Merry Christmas and Stay safe! https://open.spotify.com/track/7Cta5xE4KfdrjFmKjpbTZY 1608934705.0 1 3 1.0 766\n",
      "Indie Pop See my heart grow 3x too big as I attempt a new Christmas Classic https://youtu.be/V5-xx0eGJnw 1608934385.0 6 23 0.88 767\n",
      "Hip-Hop Merry Christmas everyone. Here’s a lyric video of one of my tracks. My friend made the piano beat and I wrote the lyrics/rapped on it. Let me know what you think. https://youtu.be/ZBtxXBl7Bv4 1608931559.0 6 22 1.0 768\n",
      "Dance & EDM A dance/EDM style track (I think). Let us know what you think! https://soundcloud.com/17-letters/what-i-like-about-you 1608929398.0 5 20 1.0 769\n",
      "Electronic Brenden Sica - Automate *A deconstructed club/glitch track I recorded after being inspired by AG Cook's 7G LP* https://open.spotify.com/track/1YNUEIGsNwhvYd2ZDyHvlA?si=MKPXmKc_Th2mdsV2S40W4A 1608925261.0 3 7 0.81 770\n",
      "Art Pop Hello there! I've made a song, mainly inspired by David Bowie and Frank Sinatra. It's name is \"Leaving Bloodstains\". I'd really love to get some feedback from you! https://www.youtube.com/watch?v=hFWDRvSvdrQ 1608922291.0 17 37 0.95 771\n",
      "Lofi Heya, I posted this song a few months ago and made a few changes since then. It’s an anime/lofi/video game style track. The mixing is still off but hope you guys could give it a listen https://www.reddit.com/r/IndieMusicFeedback/comments/kk1ha6/heya_i_posted_this_song_a_few_months_ago_and_made/ 1608913042.0 3 12 1.0 772\n",
      "Rap Rock Hibernator by The Bear Max. Merry Xmas! https://youtu.be/U0DAJ10g6d4 1608909319.0 1 4 1.0 773\n",
      "Electro Funk Funk Beat With Cleaning Products https://youtu.be/Y7oyYUxz5fM 1608907603.0 3 15 1.0 774\n",
      "Rap A rap I wrote about how much I hate Christmas for all my fellow Grinches out there https://www.youtube.com/watch?v=jUZxmUaZWKM 1608902322.0 3 16 0.8 775\n",
      "Folk 12 Days of Christmas - ANIMAL CROSSING PARODY.....Here is a little something to brighten your Christmas! Please share if you like it and spread the joy around! Comments are welcome. Merry Christmas!!! https://youtube.com/watch?v=Z9-dGao37H0&feature=share 1608896490.0 1 4 0.67 776\n",
      "Hip-hop & Rap A song I just released for Christmas. I feel as if I am not too good at mixing my vocals but I have only really started and I am learning as I go on, tell me what you think and have a happy Christmas. https://soundcloud.app.goo.gl/RGrsmof1wL7dRCP4A 1608865618.0 2 6 1.0 777\n",
      "Pop Ronan Conroy - Last Christmas [Wham cover] https://youtu.be/zdhgilA32x8 1608853081.0 5 14 1.0 778\n",
      "Alternative Rock The F-use - Find Yourself \"Live\" from my house, planning on releasing a studio version next month! https://v.redd.it/4iuocr7y97761 1608844477.0 102 71 1.0 779\n",
      "RnB Thanks for the feedback on my last song everybody. Here's my next release: Boys Don't Cry - song about toxic masculinity, Would love some feedback on the writing and mixing and singing! Where my RnB Hip hop heads at?! https://soundcloud.com/shinuyasha/boys-don-t-cry-master-no-fx 1608841977.0 1 2 1.0 780\n",
      "Rap If you need a nice little groove, enjoy my first single I ever made. Come be surprised https://youtu.be/Ncln3TOvm24 1608841686.0 1 15 1.0 781\n",
      "Indie Pop Merry Christmas to all those who celebrate it. Here is a 2020 Christmas song I wrote a little while ago. Any feedback is greatly appreciated. Happy holidays https://open.spotify.com/track/6hvSE1dR8k5O7KlsMZoZYR?si=7ccMMuqEQ-isRC6NBfr1jA 1608841303.0 2 4 1.0 782\n",
      "Indie Rock Nothing - The State of California /// Hey people! this is the second track i’ve put out for a solo proj i started recently! Take a listen! Hope ya like it:) https://youtu.be/v_VLrU_HBz4 1608838900.0 4 32 1.0 783\n",
      "Pop Have you ever had some text you when they are bored or lonely. This song is definitely about them? Let me know what you think!! Don’t know if I should call it EDM/Pop https://soundcloud.app.goo.gl/jsAETW8PYgWpqaDu8 1608837880.0 1 1 0.99 784\n",
      "Indie Hello! last time i posted here everyone was so nice so i thought i’d try and share this double single that i just released! this video is a short promotional/snippet video i made with a clip from my song “aftertaste”. i will link to both full songs on the double single in the comments! https://v.redd.it/vsdibmzxp6761 1608837576.0 41 29 0.98 785\n",
      "Synth Pop Banger from my new EP, I could use some feedback on execution. I wanna see my mistakes. https://open.spotify.com/track/3tNSpYz9MiOX6cTsffrtUp 1608835052.0 4 12 1.0 786\n",
      "Alternative Rock Kind of a long listen. To whoever takes the time, I hope it can surprise you https://youtu.be/6FjNx0S8-Dg 1608833535.0 1 8 1.0 787\n",
      "Electronic Happy Holidays folks. Made a beat I kinda like. Would love some feedback if anyone's got a few minutes to kill. I think I might end up turning the vocal chops up a little bit and maybe reworking the ending. C/C welcome. Cheers. https://soundcloud.com/aim_radio/cheater-cheater 1608833006.0 4 18 1.0 788\n",
      "Instrumental Hey guys I would like some feedback on my Instrumental songs. I put my youtube channel. Listen to any song that catches your attention. I linked my best song in my opinion. Thanks! https://youtu.be/6szzF25SxMs 1608828979.0 7 27 1.0 789\n",
      "Atmospheric We made a cover of the Christmas classic, “A Spaceman Came Travelling”. Would love your thoughts! Thanks, Marissa. https://theevesmusicuk.bandcamp.com/track/a-spaceman-came-travelling?fbclid=IwAR2F9T4HkTrkhbl3zAN9k9jnrZA00cLTAfbsKHLYDvB5TwCuPQ8q7QulTQI 1608826170.0 2 9 1.0 790\n",
      "Alternative Rock Merry Christmas to all those who celebrate, and happy holidays to those who don't! I wrote a song for everyone who's frustrated that they can't see their family this holiday season. We'll have to get by with Zoom this year, but next year will be different! Here's Quarantine Christmas :) https://youtu.be/pTehn2-XUs8 1608825734.0 2 15 1.0 791\n",
      "Indie Rock Post Mur - Рассвет (Dawn) https://www.youtube.com/watch?v=blyzgfGXGxU 1608825411.0 3 12 1.0 792\n",
      "Electronic Deep Water by Bamboo Leaves | I have created a synth-y electronic track with a driving beat where I am trying to capture the organic, natural, world vibe. I would like to get some feedback on the arrangement and mix please. https://soundcloud.com/bambooleaves/deep-water/s-vbw9NGrmXeH 1608815856.0 6 16 0.87 793\n",
      "Drum 'n Bass FREE DOWNLOAD by Marble Elephant for Christmas would love some feedback on this track also as it’s been a long project haha ❤️ much love everyone! https://soundcloud.app.goo.gl/t737bR849Fh2s7ob7 1608814637.0 2 10 1.0 794\n",
      "Pop Quick cover of a Christmas classic - sending warm holiday wishes! https://www.youtube.com/watch?v=SxeVfiUautM&feature=youtu.be 1608808647.0 6 16 1.0 795\n",
      "Pop Electronic Pop // Hotel Bars https://open.spotify.com/track/5KJcXjU0S0VTXkl3kG2Dqf?si=EgotmD5STlKeSFV5Ni3IdA 1608805541.0 0 6 0.5 796\n",
      "Hip-Hop & Lofi I'm looking for a collab with a singer/songwriter for my beat https://www.reddit.com/r/IndieMusicFeedback/comments/kjd5t1/im_looking_for_a_collab_with_a_singersongwriter/ 1608805499.0 0 7 0.5 797\n",
      "Dream Pop Hello guys, Merry Christmas! I have just written a song which is Instrumental Dream Pop & Alternative Rock (and a little bit of Shoegaze vibes too)! I would really appreciate you if you give it a try and please have a nice day :) https://soundcloud.com/yey153737373573737/untitled 1608798592.0 1 8 0.67 798\n",
      "Dream Pop my first solo song (i’m in a band too) any feedback would be great!! also excuse the goofy video hehe!! hope you enjoy!!! also you can find me anywhere just search grand.pa!! https://v.redd.it/79lt9a0uz2761 1608792482.0 1 15 1.0 799\n"
     ]
    },
    {
     "name": "stdout",
     "output_type": "stream",
     "text": [
      "Indie Rock Happy holidays! If you are bored please check out this rough demo I've been working on - would love to get some early feedback https://soundcloud.com/user-48352803/pinnacles-rough-cut-v1 1608791916.0 1 8 1.0 800\n",
      "Future Bass damper - inherited dream ; My 3rd release, kinda Future Bass / Electronic. Let me know what you think! https://v.redd.it/jsc2l5v9w2761 1608791276.0 18 21 1.0 801\n",
      "Indie Mad Max Mathews Makes Machines Musical by Amateur Hockey Club- the closing track from my newest project. This is my first self-produced project with a full release. The song is mostly about feeling lost in post-grad life. Appreciate anybody listening! https://soundcloud.app.goo.gl/wrmQethFTMb3iiYF8 1608791175.0 2 8 1.0 802\n",
      "Experimental Another crazy beat I made today. Its not supposed to be pretty. Any love/feedback is appreciated! https://soundcloud.com/mobbarley420/bodies 1608780960.0 2 8 1.0 803\n",
      "Hip-hop & Rap I Matter - Mekter ft. Alex Parker (Quarantine Visual) As of today this is my most streamed track on Spotify with more than 12K plays. Maybe it’s not much for some people but I’m excited. Let me know what you think of the song and music video https://youtu.be/QIX7NtBKvmQ 1608778861.0 0 7 0.5 804\n",
      "Hip-hop & Rap The leading single 'CITY' off my recent project \"STAKEOUT\" ! https://open.spotify.com/track/2N1UjPtlxOtHY8heK1oUK2 1608777725.0 2 4 1.0 805\n",
      "Indie quarantine had me feeling mad introspective about my life so I decided to make a song about it, check out SOMEDAY! https://open.spotify.com/track/70OHNJbRjKkUuoxVzDbf6w 1608775377.0 1 7 1.0 806\n",
      "Trip-Hop [FREE FOR PROFIT] \"The Funk\" | Psychedelic Type Beat | Funk Type Beat https://youtu.be/afeMUuwocss 1608774229.0 1 4 1.0 807\n",
      "Lofi Pop Electronic, triphop-ish Trio Hvaall. This is a 3 track live recording of some new material my band is working on. Would love opinions on how u feel this work. Do also check out our ep \"The Wicked Blossom\" from earlier this year thru the channel. Thank you wish u all Happy holidays. https://www.youtube.com/watch?v=UxGv5aHSNW8 1608772674.0 2 7 1.0 808\n",
      "Synth Pop okay so this community was so incredibly kind and encouraging first time around... so here's my second song! https://www.youtube.com/watch?v=KDKqUpXZfFU&feature=youtu.be 1608770812.0 57 58 0.96 809\n",
      "Dance Make Me Nervous - Thanks for listening and happy holidays! It's been a tough year for everyone but we got through it. Big hugs and shout to everyone in this sub for all your feedback & support. I've enjoyed all the music I have listened to and wishing everyone much success in 2021! Be nice to ducks. https://soundcloud.com/user-925999813/opus-17-ozone 1608767018.0 3 7 1.0 810\n",
      "Other Lofi-ish, funky, and dancy music for nodding your head and tapping your feet in the quiet room at the party. (Help me define a genre?) https://v.redd.it/jzt9m5mnq0761 1608765272.0 0 6 0.33 811\n",
      "World Well, this track made me swing slightly from left to right and back when playing and listening to it so I called it little swing. I don't know if it has the same effect on you.. https://youtu.be/GCyjKNynxss 1608763682.0 7 37 0.89 812\n",
      "Indie A vibey White Christmas and Season's Greetings to all! https://www.youtube.com/watch?&v=NTKas9tb5Q4&feature=youtu.b 1608753957.0 4 19 1.0 813\n",
      "Indietronica Released a trancy video to my new single \"Trance Away\". Open for some Christmas feedback:) https://www.youtube.com/watch?v=g9lE-5dnTbA 1608753415.0 4 15 0.84 814\n",
      "Electro A Digital Sound Redemption - Tell Me [Electronic Rock] from our first EP Regression. Any feedback is more than welcome!! https://open.spotify.com/track/0q9fWrUuizdDgMem9MXL6s?si=bFBbCG6NQUiEoiqYWyAC7w 1608753093.0 2 10 1.0 815\n",
      "Hip-Hop My latest old school hip hop track, would love to get some feedback on anything good or bad about it, thanks! https://youtu.be/Al_fZz-ZKt0 1608750047.0 9 17 0.92 816\n",
      "Cyberpunk My Cyberpunk 2077 take. Finished the game, felt like doing this. Kept it short because i really didn't have too many exciting ideas. https://www.youtube.com/watch?v=429r24Y8wyg 1608746646.0 1 9 1.0 817\n",
      "Rock An old song of my band in old-school rock style - but with female vocals! Spotify link in the comments https://youtu.be/O27KHzI4lqU 1608744051.0 2 8 1.0 818\n",
      "Funk I've just made a music video combined with my other passion which is Cinema!! I mixed my new track with some clips of Inglorious Basterds by Tarantino. This is a new experiment I try, so I'd really love to have some feedback :D https://youtu.be/2n3jl0BQbWk 1608742878.0 2 15 1.0 819\n",
      "Hip-hop & Rap Gunz Guap & SayLessBeatz - BIG https://open.spotify.com/track/6ztqYW2MlC0tz2I5xE6ou7?si=xxKBinQyQteKbBa0yQ4KIw 1608742769.0 1 3 1.0 820\n",
      "Instrumental Hip Hop TPAB Interlude style Instrumental with a dialogue sample. https://youtu.be/H6hjbH9ObYI 1608742093.0 3 16 1.0 821\n",
      "Alternative Rock Song about Zoom meetings- ZOOM (Eat Shit For Breakfast). I wrote this song about how much I hate zoom meetings lol. Hope you like! https://soundcloud.app.goo.gl/cDtFecM9xPZXjcNP6 1608741647.0 1 11 0.67 822\n",
      "Indie My cover of ‘It’s Getting Cold in the City’ by Current Joys’- would love some feedback :) https://soundcloud.app.goo.gl/1M6oEc7uWRxzcX7E9 1608739517.0 2 6 1.0 823\n",
      "Hip-hop & Rap A high(er) energy track that paints a window of who i am. Its a free verse and a track i almost threw away but decided to drop as a single. It was fun to make and has some bounce! Let me know ur thoughts please https://soundcloud.app.goo.gl/htw8mDSxDz42dneBA 1608737999.0 1 4 1.0 824\n",
      "Piano Hey everyone, I wanted to wish you a Merry Christmas with my piano cover from Santa Clause is coming to town. Stay healthy and enjoy listening ;-) https://soundcloud.com/juliano2007/santa-claus-is-coming-to-town 1608734221.0 3 19 0.81 825\n",
      "Indie This is the third and final single off my latest E.P, Held In Quiet Parenthesis. This is a song about fidelity and exploring the morality of being devotional towards individuals, political causes and divine beings. Let me know what you think. https://soundcloud.com/tomerkrail/so-unfaithful-so-untrue 1608733830.0 22 32 0.97 826\n",
      "Electronic Instrumental Supraliminal | Synth Chaos | I was going to scrap this one, but I forced myself to finish. It came out... interesting. Let me know your thoughts / advice https://soundcloud.com/zzguy/supraliminal/s-JhO8r3djOkv 1608732323.0 1 14 1.0 827\n",
      "Electronic I was having writer’s block so I set myself a challenge. 1. Use the first idea I come up with. 2. Make new song when I get bored of it. 3. Use elements of previous songs in the new ones. I ended up with some quite interesting music. I recommend listening all the way through to get the full picture. https://youtu.be/HJqTFRyUOQs 1608713603.0 15 25 1.0 828\n",
      "Deep House Problems (Zachary Robert Remix) - Mat Zo by Zachary Robert https://soundcloud.com/zachary_robert/problems-zachary-robert-remix-mat-zo 1608690796.0 1 3 1.0 829\n",
      "Pop Going through some relationship stuff lately...Went all in, and let it all out. Its a very mellow song, very different to the last one. But this one hits the spot for me. I know the mix is not perfect and theres some noise. But hey, its what i can do with what I have. Lyrics in comment. https://www.youtube.com/watch?v=6MKDPZxTcEo 1608685258.0 3 20 1.0 830\n",
      "Indie Rock Throughout this strange, uncertain time my band and I have made an effort to be as productive as possible releasing singles and videos throughout. This is our latest. I know there's a lot of content out here, so your time is valued! (insta: @sin___th) https://www.youtube.com/watch?v=uQXeQk5mLNw 1608684308.0 6 18 0.88 831\n",
      "Synth Pop A song I made on the go with no particular subject. Need help with the mixing. https://www.reddit.com/r/IndieMusicFeedback/comments/kihl9x/a_song_i_made_on_the_go_with_no_particular/ 1608682097.0 1 4 1.0 832\n",
      "RnB FEEDBACK REQUEST RXM MIXED SAMARTH PROD DUCKY https://soundcloud.com/xxrxmxx/hopelessromanticmix4/s-eqmdi42h62p 1608677351.0 2 9 1.0 833\n",
      "Metal Opening Track from a recent EP I released. Definitely in the prog-metal vein with hints of minimalism. Looking to know what people think of the track in general. https://open.spotify.com/track/3rKuOnxBSpQMT8UT9oUz9C?si=3ymEPhi1R6-gO7cJ2QtD7w 1608677277.0 2 5 0.76 834\n",
      "Synthwave Synthwave cover of Paint it Black w/ Only the Lonely ending, in production, called \"Paint it, Lonely\" https://soundcloud.com/doqtrshine/paint-it-lonely-demo3-122220/s-2GKWNH8AaeA 1608676133.0 1 5 1.0 835\n",
      "Indie Pop I wrote a song about not liking winter https://soundcloud.com/andre_iz/summer 1608675046.0 20 32 0.92 836\n",
      "Instrumental Hip Hop [FREE FOR PROFIT] \"The Legacy\" Capital Steez x Joey Bada$$ Type Beat https://youtu.be/fPSs9i90Ytw 1608673360.0 1 6 1.0 837\n",
      "Electronic Instrumental Just a little music video that I made together with someone for one my songs. Hope you enjoy it! https://www.youtube.com/watch?v=wnHox8Kz1xs&ab_channel=Lisid%21 1608673032.0 3 18 1.0 838\n",
      "Ambient Trap This is my first song ^~^ all feedback is appreciated 🖤 https://soundcloud.app.goo.gl/c76ZZv9PW9kQRU5MA 1608671668.0 1 2 1.0 839\n",
      "Trap Made a trap beat out of Fleetwood Mac's-The Chain https://soundcloud.com/bizondele/the-chain 1608670271.0 2 11 0.75 840\n",
      "None Duo from Toronto starting out https://www.reddit.com/r/IndieMusicFeedback/comments/kid966/duo_from_toronto_starting_out/ 1608668590.0 7 12 0.83 841\n",
      "Ambient Breaks chromdealer - '7oix' | (Drum & Bass, Ambient, Downtempo) [2020] https://soundcloud.com/chromedealer/7oix 1608668108.0 1 4 1.0 842\n",
      "Indie Pop At first glance this is a shit post, but I'm actually pretty proud of the lyrics and songwriting in this tune. Hope everyone is having a very merry solstice https://www.youtube.com/watch?v=_CSpZjEVeuU 1608667139.0 4 20 1.0 843\n",
      "Songwriter Corner Store (Acoustic) - Demo with mistakes and all. Let me know what you think. https://m.soundcloud.com/bracewindu/corner-store 1608666974.0 1 10 1.0 844\n",
      "Other Silent Night: an ethereal retake (half instrumental, half sung) of the known Christmas Carol, made as seasonal greetings as I do one carol every year. Lots of backing vocals work over a simple instrumentation. https://www.youtube.com/watch?v=7fdFn7aFycQ 1608665827.0 2 8 1.0 845\n",
      "Indietronica Did this in around 6 hours today. It's not mixed or mastered yet, just looking for feedback on arrangement, overall feel or artists that it reminds you of. Thanks! https://soundcloud.com/h_y_p_e_r_o_b_j_e_c_t/exp3_wip/s-6yv7uiaoL0P 1608662980.0 2 9 1.0 846\n",
      "Alternative Rock Bomb - Released an Emo/Punk/Noise Rock album! This is one of my favorites from it, a darker song about Hiroshima/Nagasaki juxtaposed with the present day. If you like it, consider checking out the rest of the record! https://jodaki.bandcamp.com/track/bomb 1608661433.0 2 3 1.0 847\n",
      "Alternative Rock DR SATSO - SOUR MILK. My band put out a home recorded album on Friday, we would love to hear what you all think of this song. Spotify link in comments if you prefer, thanks IMF! https://www.youtube.com/watch?v=4Db0uXP-89Q 1608660913.0 2 8 1.0 848\n",
      "Indie Pop COVER: Leonella y Valeria - Jolene. So a friend and I made this cover of an arch-known song. She's in Colombia while I'm in Portugal, so we were trying to make this work. We're not sure about the genre, so I guess it's pop. Let us know what you think (I made the video as well) :) https://youtu.be/0fDs3HiG51U 1608660150.0 1 4 1.0 849\n",
      "Indie Maybe It's The Beginning And Not The End https://soundcloud.com/dreamofsleeping/maybe-its-the-beginning-and-not-the-end 1608657706.0 12 31 0.94 850\n",
      "Instrumental Hey! I'm starting to release, track by track, my new album. Here's the last of the releases. Give it a listen and dont forget to subscribe on my channel for more if you like it :) https://youtu.be/53kUz6k3Xlc 1608654976.0 10 22 1.0 851\n",
      "Downtempo Last song of the year. I started out trying to make an optimistic, up-tempo song, but this melancholy downtempo came out instead. Would love to hear what you think, and have a great Xmas IMF :) https://soundcloud.com/maxipok/are-we-there-yet 1608654592.0 1 7 1.0 852\n",
      "None This is Insufficient Funds from my new album One More Day. I wrote it based off a date I had with a girl and I realized I had not money in my account when I thought I did https://open.spotify.com/track/0uQYrJEtJjPw5qCbKuMw85?si=jM5otL6hSFqCobF0umy8Ug 1608654540.0 1 1 1.0 853\n",
      "Electronic Usually I write really complex and layered music. With this song, I tried a more minimalistic approach, using just a few sounds. It's short, calm, with fair amount of ambiance and texture to it. Let me know what you think about it. https://youtu.be/Twdb6gBD7wk 1608648964.0 8 25 1.0 854\n",
      "Alternative Rock For any of you Alt-Rock fans out there, this is 'Gone'. https://open.spotify.com/track/0UQUMxmjlkr6cb1vkg1swN 1608648218.0 12 13 0.88 855\n",
      "Americana With live music pretty much being cancelled across the board for most of the year, 2020 really did challenge me to come up with alternative ways to get my music out into the world. Making this music video was a lot of fun. It was my first one and I plan on making more. Let me know what you think. https://www.youtube.com/watch?v=MbFOkr8yrkA 1608648143.0 29 44 1.0 856\n",
      "Dream Pop Help Identifying Vibe / Genre https://www.reddit.com/r/IndieMusicFeedback/comments/ki6c77/help_identifying_vibe_genre/ 1608647291.0 5 18 1.0 857\n",
      "Indie Hi guys, I’ve just released my first professional album, it’s called “ Lost In Atlantis “ , we’ve been working on it for a while, anyway the song below is called “ Deepest Lie “ , I’ve written it in a pretty hard time , also its the first song that i use an Oud in , I hope u like it guys, love u https://open.spotify.com/track/4adPaWNRnzXOp0oCaindpj?si=mKYUtZRmQrmnWs5CEyoRyA 1608642232.0 7 16 0.9 858\n",
      "Independent Im working on an album about toxic relationships. especially right now with this pandemic and Valentines day only 2 months away i feel like toxic relationships r really big right now. this song is a lyric video for the song Fake tht i was planning on putting on the album. please giv opinions https://youtu.be/CtuZXCUJcvo 1608641130.0 2 7 1.0 859\n",
      "Indie Rock New video from Kimbo Nice [Inde/Alt Rock]. We had a lot of fun filming this video as you can imagine, shout out to the regulars who helped us. Check it out! https://www.youtube.com/watch?v=6ocj8WoVmtw&t=76s 1608637743.0 8 21 1.0 860\n",
      "Electronic Shōko by Bamboo Leaves | I have created an uptempo electronic track where I am trying to capture the Bonobo/Gold Panda sound while keeping the organic, natural, world vibe going. I would like to get some feedback on the arrangement and mix please. https://soundcloud.com/bambooleaves/shoko/s-4jMUi8MXuxe 1608635035.0 5 25 1.0 861\n",
      "Pop My friend and I made a summer dance bop for Summer 2021! https://youtu.be/Iw2pWPwsoOU 1608634566.0 2 17 1.0 862\n",
      "Acoustic Rock This is a quick little song I wrote and put together, I write a lot of songs and I get impatient when i spend too much time on production and everything else, probably why I’m not getting much better 😅 this one was pretty simple overall so let me know what you think, thanks!!!! https://youtu.be/crsnvLGHzog 1608618489.0 1 6 1.0 863\n",
      "Experimental Crazy 🔥beat I made today. https://youtu.be/B6UwULKNcSI 1608612792.0 1 14 0.6 864\n",
      "Indie gentle jupiter - the lake (Official Music Video) my fourth release! please lmk what you think :-) https://m.youtube.com/watch?v=1stbcDN0oXc&feature=youtu.be 1608611593.0 26 50 0.97 865\n",
      "Indie Inspired by a recent binge of The Great and feeling frustrated, we wrote this song to talk about how important it is to feel validated. Hope you enjoy! https://soundcloud.com/betterthanbefore2/calm-down 1608607941.0 1 4 1.0 866\n",
      "Synth Pop I Believe https://www.reddit.com/r/IndieMusicFeedback/comments/khw9ht/i_believe/ 1608604681.0 2 6 1.0 867\n",
      "Electronic This is my favorite track that I have come out with so far. Let me know how I can improve on the next track! :D https://www.youtube.com/watch?v=oXnrw_kNS2s 1608600324.0 4 22 0.84 868\n",
      "Rock Hey guys, I’ve been dealing with some things here recently and had to get my thoughts out. We’ve all lost someone so I hope this helps you as much as it helped me. I called it, You're Not Here... https://youtu.be/LnuTXwd9QvY 1608598424.0 1 9 1.0 869\n",
      "Indie Pop hello! i just released my debut single called \"matchbox\" which is about being placed in someone else's shoe. would really love some feedback especially in production, because i'm still a beginner when it comes to it. hehe thanks! https://youtu.be/stAKTmWg5CM 1608595111.0 17 42 0.91 870\n",
      "Garage UKG remix of a classic Dido tune. Every year I watch love actually and am reminded what a banger the original is. Let me know what you think https://soundcloud.com/riffsnragas/here-with-me 1608593220.0 1 5 1.0 871\n",
      "Atmospheric Experimental Downtempo, emotional psychedelic track. I’d like to know if you think this sounds like any other artist.. https://youtube.com/watch?v=yz2uoITcTds 1608588103.0 5 13 1.0 872\n",
      "Hip-Hop & Lofi [FREE FOR PROFIT] \"Lxfi\" - Knxwledge Earl Sweatshirt Type Beat https://youtu.be/SPC3py-5y4o 1608587952.0 3 11 1.0 873\n",
      "Trap TWhay - XO Beach Party [Trap] I'm heavily inspired by artists like Juice WRLD and Lil Uzi Vert, but I'm trying to find a sound that works for me, in the trap/rap music scene. Hope you enjoy listening! https://www.youtube.com/watch?v=ZqynxEqViHg 1608587572.0 3 7 1.0 874\n",
      "Hip-Hop & Lofi My favorite beat I’ve made so far. I really want this to be my first legit release, but I’d like some opinions first before I do anything. https://soundcloud.app.goo.gl/FZM6gHRKmWKh78F46 1608585862.0 2 12 1.0 875\n",
      "Instrumental Hip Hop Kraft Mac by Chef | Octopus Chef | Free Listening on SoundCloud https://soundcloud.com/ceddachef/kraft-mac 1608584619.0 1 6 1.0 876\n",
      "Alternative Rock Mis/s Erase by HANKUS | Started this in June, it was well received so I continued it and finally finished it today. Enjoy this shoe gazey dreampop tune. FFO: Diiv, Cure, etc. https://soundcloud.com/thehappykarma/miss-erase 1608582941.0 6 27 1.0 877\n",
      "Jazz Rock HANKUS - Broadway (Cityscapes 07)... a fun instrumental groovy jazzy indie rock tune. FFO: Kings of Convenience & Whitest Boy Alive [those were my main influences on this one] Cheers! https://soundcloud.com/thehappykarma/broadway-cityscapes-07 1608582723.0 2 12 1.0 878\n",
      "Alternative Rock Hungarian alt-rock, a poem about final stange of cancer - what shall I change in mixing? https://soundcloud.com/szegedi-laszlo-316250131/babel 1608578275.0 1 19 1.0 879\n",
      "Other i changed my style alot, any feedback appreciated https://soundcloud.com/dedtamagotchi/etherealshawty4eva 1608577014.0 1 7 1.0 880\n",
      "Indie Kuft - an intro track. Peep this little diddle if you have a minute and twelve seconds. https://open.spotify.com/track/5TYUTGS0Ti6aKAukC3Ff4g?si=iV_4ubr1SQ2BSl22XD4o7w 1608572401.0 1 5 1.0 881\n",
      "Art Pop \"Broken Wings\" is a new track of mine. It's about those who suffer with addiction. Would love some feedback because I think there's more work to do. What do y'all think? https://soundcloud.com/10-000-20th-century-chair/broken-wings 1608571927.0 2 15 1.0 882\n",
      "Lofi Yo I did a cover of Drakes Teenage Fever witha new vibe. Please tell me what you think. Tried to make it lo-fi ish. Not sure if it is?! https://www.youtube.com/watch?v=hVvQ0xazNOE&feature=youtu.be 1608569068.0 2 8 1.0 883\n",
      "Hip-Hop & Lofi Here's a Lo-Fi slow jam that we made 3 years ago and polished recently! https://youtu.be/sQdajTbTTj4 1608562325.0 1 7 1.0 884\n",
      "Indie I want your opinion on my latest release, i made the song and video. Btw its in Dutch! https://youtu.be/Ch69TYtaG44 1608560464.0 54 55 0.98 885\n",
      "Electronic Instrumental A fun song for a future release. My mixing skills have been ripped to shreds in this group and I'm here for it. 👌 The visuals on this is from War of the Planets (1977) and I don't recommend the movie https://youtu.be/x57mbwjcoMo 1608553714.0 6 22 1.0 886\n",
      "Electronic Instrumental Matar - Imagine A Title Because I Haven't Yet Figured That One Out. I appreciate your feedback on this before I upload it to youtube :) https://soundcloud.com/os-mat/demo 1608551904.0 1 10 1.0 887\n",
      "Lounge A relaxed, lounge (?) type electronic song I made. Not sure what genre it would fit into. I think it suits rainy night vibes alone at home :) https://soundcloud.com/generalconsensus/muy-muy 1608541086.0 4 14 0.84 888\n",
      "Progressive House Baro - Though Fade. This is my second two track EP, I hope I'm getting a more mature sound and approach. The second drop fades unexpectedly and it was my aim, would be good to know what you think! https://open.spotify.com/track/5UvGWOIt4AjYmB9FahKh3V?si=fdVB4vRZQg-AWxG874LuAA 1608536809.0 2 12 1.0 889\n",
      "Indie Summers out West demo! what do I need to change before re-recording it! https://soundcloud.com/parksville/summers-out-west-verse 1608532226.0 1 7 1.0 890\n",
      "Shoegaze A Stuttering Ghost - the mind starts to go. I've always written longer, post-rock style instrumentals, but I've recently been working on my short-form compositions, as well as vocals! Lots of firsts for me on this one, but I'm excited to share it here. https://astutteringghost.bandcamp.com/track/the-mind-starts-to-go 1608524020.0 2 14 0.76 891\n",
      "Disco Some funk/disco dance vibes for you guys! Little out of my comfort zone but I really wanted to create something funky. Wanted to find someone for vocals too, but, never happened. Oh well, hope you guys enjoy!:) FUNK IT UP 🕺🏽📸 https://soundcloud.app.goo.gl/dVbNd6qUaB11pAxJ6 1608521793.0 3 6 1.0 892\n",
      "Indie Seeking feedback on new track - Problem? by heists - its kind of an experimental indie song. I was trying to meld a few different genres in a combination I hadn't heard before. Let me know if it comes across. Thanks :) https://musicforheists.bandcamp.com/track/problem 1608512188.0 8 26 1.0 893\n",
      "Garage Rock Rags to Riches. Spooky rock n roll. During a blue moon there is a pause on being preyed upon. Epic solo/end from 2min. https://open.spotify.com/track/2yJTyRB8NQQCJ40cLZqDRz?si=CyRO67ZtSoOom2V3FcBKfw 1608510754.0 2 9 1.0 894\n",
      "Indie Folk please check out one of my older songs titled \"Will We?\", the track was based around the special feelings summer romance brings a young adult :) https://open.spotify.com/track/5PbWFx1SVCHVOCtjwWl9vv 1608509995.0 2 13 1.0 895\n",
      "Hip-Hop & Lofi FREE FOR PROFIT] \"Baby\" - Earl Sweatshirt Type Beat x Mavi https://youtu.be/PI8ZxDvEkUc 1608509811.0 2 5 0.75 896\n",
      "Alternative Rock Probably my favorite recording so far. Really catchy but weird enough to stand out. Let me know what you think. https://soundcloud.com/nvisibleet/fa-mischief 1608505635.0 1 18 1.0 897\n",
      "Other IT'S 1862 SOMEWHERE ON THE OUTSKIRTS OF SAN DE LORENZO... AN ARGUMENT ABOUT ADULTERY BREAKS OUT BEHIND YOU WHILE YOU ARE DRINKING AT THE BAR. ONE COWBOY IS LEAVING TO GET HIS GUN AND THE OTHER IS FINISHING HIS DRINK AND REFUSES TO LEAVE THE BAR. HE WAITS FOR WHAT SEEMS TO BE HIS LAST MOMENTS... https://soundcloud.com/lilfoola/drunk-fight-outside-flamenco 1608505449.0 3 6 1.0 898\n",
      "Acoustic Guitar Our cover of Lovesong, spanish style https://youtu.be/5754SwiHDqs 1608505245.0 2 7 1.0 899\n"
     ]
    },
    {
     "name": "stdout",
     "output_type": "stream",
     "text": [
      "Ambient Techno/IDM Getting Lost in C Minor // My first try to integrate Microfreak, Eurorack and FL Studio in one record! https://soundcloud.com/isosthenie/gettinglostincminor 1608504296.0 4 17 0.84 900\n",
      "Hip-hop & Rap Hi, my name is J-Benz. This is a track called, \"Power, Love, and Greed\". I posted it here before, but I changed the mix and gave it a video. https://www.youtube.com/watch?v=Rpohk4AdR-8 1608500242.0 1 6 1.0 901\n",
      "Rock First video off our latest record https://www.reddit.com/r/IndieMusicFeedback/comments/kh1t5l/first_video_off_our_latest_record/ 1608496661.0 4 9 1.0 902\n",
      "Alternative For those that have been HEART BROKEN. Looking for feedback on a upcoming release of mine! https://www.reddit.com/r/IndieMusicFeedback/comments/kh1kg1/for_those_that_have_been_heart_broken_looking_for/ 1608495928.0 3 8 1.0 903\n",
      "Dance-Punk hope you like cowbell! made some dancepunk or something & looking to collab.. also streaming everywhere as 'phervor' so let me know what you think!! :) https://www.youtube.com/watch?v=pcpAiMOLcqw 1608494249.0 1 3 1.0 904\n",
      "Folk & Singer-Songwriter Hi, guys! Just released my second single today which features a talented friend of mine on back vocals called Maru! Hope you enjoy It!! Someone told it fits well with wine in a cold night btw haha https://open.spotify.com/track/1MoPLOiE0RVYVwNSRQUx9o?si=XqtVdMxRTiWl70UiW85IcQ 1608492770.0 1 5 1.0 905\n",
      "Dance I made a track which blends indie rock into dance...looking for feedback please https://open.spotify.com/track/084ZG7dKFF5cDy8Lk9poct?si=zaEiuOaqS4eqbuKAoPvxQQ 1608490855.0 4 31 0.83 906\n",
      "Lofi Somewhere Else - a sad boi hours/ escapist song I made on a day I was feeling really down, let me know what you think <3 https://open.spotify.com/track/0AQbmNzOkMiHiaZd6S7uSF?si=sCM2WSZUQkOajelmoqc_tg 1608490267.0 3 18 1.0 907\n",
      "Electronic Instrumental Momentvm - Wolf 359. A foray into something new https://www.reddit.com/r/IndieMusicFeedback/comments/kgz44p/momentvm_wolf_359_a_foray_into_something_new/ 1608488478.0 2 4 1.0 908\n",
      "Indie Pop Hey guys, this is the opening song of my first EP - I've gone for a lofi indie vibe with somewhat of a crooner singing style, let me know what you think 🤘 https://open.spotify.com/track/2LEOY5HwBOXWYu7N9hs5I8?si=EtaYfrUuSV-EU0IGeJYLUA 1608480543.0 21 47 0.85 909\n",
      "Hip-hop & Rap ⚡️✅Check out my new song and lmk what you think:) ‘Profit’⬇️🎵💯 https://li.sten.to/VqOQSuU 1608476424.0 0 7 0.5 910\n",
      "Hip-Hop Been trying to make some epic hiphopesc tracks recently. This one I was think of something that could open a Kanye West album, would love any thoughts https://youtu.be/7tMgrhQ3IvI 1608472942.0 2 9 0.76 911\n",
      "Urban Soul Channeling the lush equatorial nature of the Amazon. Would love some feedback on this! Kahika - Amazonia https://soundcloud.com/kahika/amazonia 1608472274.0 3 3 1.0 912\n",
      "Downtempo cLo - bLackout Remix Competition [ HEADPHONE MIX] https://m.youtube.com/watch?v=yz2uoITcTds 1608470895.0 1 9 1.0 913\n",
      "Songwriter What do you think? Our first Christmas Song. Piano and Vocals https://www.youtube.com/watch?v=moUboum6AAw 1608469038.0 1 2 1.0 914\n",
      "Indie Pop HRU?| Henlo, long time listener, first time caller. We are looking for some constructive criticism and feedback on this snippet of an upcoming bedroom pop track before we get it mixed. Feel free to be brutally honest! Influences are BENEE, Gus Dapperton, Still Woozy and city pop https://www.youtube.com/watch?fbclid=IwAR2a7rlWOfPcMlvZaKRuapa_BSekhvXGdq8qflWD7uLfD3gtXi7j_IaCxTY&v=8eiT2-97o3w&feature=youtu.be 1608467778.0 12 24 0.89 915\n",
      "Dream Pop A dreamy shoegaze for this cold weather <3 https://soundcloud.com/glappysabri/talk-to-angels 1608464306.0 5 8 1.0 916\n",
      "Chiptune  This is the intro song of my chiptune-ish album in which each song's BPM, key and mode were generated randomly https://open.spotify.com/track/6llIpOFORd01lxw0obNEKG 1608464058.0 9 26 0.77 917\n",
      "Alternative Rock This song is about death and the choices we make in life. I feel the vocals I can do better now cuz I did it on an older program so I’m thinking about redoing it all now that I’m a lil better at mixing and mastering as well but the song itself I think is good so let me know what y’all think! Thanks https://youtu.be/I3nwmK5pLcQ 1608461013.0 1 5 1.0 918\n",
      "Indie Rock DRIFT by junejam | Hey guys. Was just here last week but I made another song ahaha. would love to hear thoughts. https://soundcloud.app.goo.gl/r1GVnBkBvxxBwCSv7 1608456759.0 5 11 0.86 919\n",
      "Garage Rock Just released this video for mobile: my latest Garage-Psych-Rock single \"Born to Be Damned\" ... it features a flaming triangle which seems to fit the mood ¯\\_(ツ)_/¯ https://www.youtube.com/watch?v=onxQ4E4L_bs 1608452805.0 1 6 1.0 920\n",
      "Alternative Rock This is the first release I've felt is really good, so please give it a listen. https://open.spotify.com/track/2kLhHomHLxuxpOBu993n4d 1608449876.0 3 8 1.0 921\n",
      "Experimental The Pombéro, known also as Pomberito, Pÿragué (\"hairy feet\"), Karaí Pyhare (\"lord of the night\"), Kuarahy Jára (\"master of the sun”) is a mythical humanoid creature of small stature in Guaraní mythology. (This is experimental-electronic music.) A cocktail of Brian Eno and Aphex Twin? who f'ing noes https://soundcloud.com/sertulariae/pombero 1608444282.0 3 6 1.0 922\n",
      "Indie Folk A simple summer song for this cold winter https://m.youtube.com/watch?v=ytsn9wAR_Ag# 1608443587.0 8 26 0.91 923\n",
      "Indie Hi imf, here is a music video that i made this summer. https://www.youtube.com/watch?v=vSd4Vdlz7fw 1608436669.0 6 26 0.88 924\n",
      "Trap & Drill Me and one of my best friends just put out a mixtape, Thanks for listening! 6 tracks long, 21 mins https://soundcloud.com/dvstrr/dvstrr-vs-tsveta-bioteam 1608433914.0 1 4 1.0 925\n",
      "Instrumental Christmas Song (Instrumental) - I took a stab at a jazz arrangement, I hope I didn't butcher it too much! https://cinnamon.video/watch?v=477654909064316143 1608433088.0 2 7 1.0 926\n",
      "Synth Pop No Place For Music - Phenomenon. A synthpop single which I released back in Halloween because it was inspired by a horror movie. https://open.spotify.com/track/1IECqDrz8sFIZ8qdMSGQmO 1608430415.0 4 11 1.0 927\n",
      "Electronic Field Observations in The Galapagos-- A song inspired a bit by stuff like Gorillaz and the Portal Soundtrack. Thanks for listening and any feedback is welcome! https://soundcloud.com/kyle-york-11/observations-in-the-galapagos 1608421793.0 5 14 1.0 928\n",
      "Electronic Instrumental I NEED TIPS. I'm a beginner and I would love to know where I can improve. Is the sound good? How is the melody or the rhythm? Does it sound good? What am I missing? If you see anything missing please tell me in the comment. https://youtube.com/watch?v=TkZ02TimMos&feature=share 1608419282.0 1 9 1.0 929\n",
      "Downtempo Hey I'm Saito and I've been recording some acoustic guitar and hang drum (A.K.A turtle shell) into my electronic production and came up with this downtempo track with some latin vibes. Let me know what you think! https://open.spotify.com/track/1dTt6shpwOQsQ81zJJbBsi?si=h0ievxmNR1ed52_CCIlQWw 1608417901.0 4 9 1.0 930\n",
      "Emo Rap This is my entry for a REMIX contest. I would love to hear peoples feedback! Thanks :) https://soundcloud.com/aaronbaileymusic/aries-conversations-remix-contest 1608415678.0 3 4 1.0 931\n",
      "Lofi Pop Self produced indie artist trying out a new dark disco indie-pop track. Let me know what you think. Little Eyes https://open.spotify.com/track/3tEHXLPTIqKg4ONmM0DMF1?si=h2MQQnntS8azGX0ygMqYzg 1608411695.0 1 14 1.0 932\n",
      "Indie Rock Prasog- Guerrilla. Hey guys! My band and I recorded this song in response to all the political stuff going on around the world. Would appreciate some feedback on it! https://soundcloud.app.goo.gl/Rs5LpdeEm1XXqAWq7 1608407887.0 2 6 1.0 933\n",
      "Hip-hop & Rap Just Dropped a Wavy Hip Hop Banger on all platforms, let me know what yall think! https://open.spotify.com/track/79uoWmsRDHW0VlAwQ6y5mJ 1608404108.0 1 11 1.0 934\n",
      "Alternative Rock Too+long (Demo) by Junk Mail (feedback appreciated!) https://soundcloud.com/user-785753375/toolong-demo 1608402565.0 6 21 1.0 935\n",
      "Electro Funk A song about a very bad dream (thank you for listening!) https://www.youtube.com/watch?v=cnalZKsZcAI 1608401721.0 3 16 0.81 936\n",
      "Hip-hop & Rap Was really trying to experiment here, let me know what you think. Red Bull Is Not A Fuel https://soundcloud.app.goo.gl/bTmtA9PMvBSTJ6788 1608401192.0 2 11 1.0 937\n",
      "Lofi Hey everyone :). I’ve just released a single and I think that you would really enjoy it! All the feedback is appreciated and thanks for giving it a listen! https://youtu.be/7kLcpqlbYSg 1608400072.0 2 10 1.0 938\n",
      "Lofi Jazz First Solo Release Ever! Looking for some honest opinions. Got kinda lucky with the release radar so I could gain a handful of streams. Let me know what you think, especially on the vocals, that's the hardest part for me :) https://open.spotify.com/track/422mycpnrXWqweMBZ4cpcs?si=5tfdp_yMQ_6jK7khmAY4Tg 1608398694.0 1 4 1.0 939\n",
      "Krautrock Short composition I've been working on inspired by Krautrock bands like Kraftwerk and NEU! https://soundcloud.app.goo.gl/hFSnx 1608397409.0 4 16 0.84 940\n",
      "Punk Here is my take on a Christmas classic. I'd love your feedback on the mix and performances to help me improve. Thanks! https://youtu.be/Y0L4wKV1H9c 1608396907.0 3 19 1.0 941\n",
      "Electronic Been producing for 51 weeks now, here's a track imagining a snowy drive home during a Christmas that's not set in 2020. https://soundcloud.com/ku_ma/snowrun 1608394234.0 3 28 1.0 942\n",
      "Alternative Rock DR SATSO - Never Should Have Been. My band released a DIY album yesterday, let us know what you think of this track! Thanks everyone :-) https://www.youtube.com/watch?v=U-HP0azvJOk 1608393864.0 3 30 0.81 943\n",
      "Hip-hop & Rap Tried something new with a different kind of beat. Everything is inhouse produced from the cover art to the beat! https://soundcloud.com/ynb_lowkey/dubai-snakes-prod-ynb 1608388492.0 2 11 1.0 944\n",
      "Future Garage I did an chillstep/future garage type of remix of Rick and Morty season 4's ending song - Don't Look Back. Thanks for listening :) https://soundcloud.com/asxia/dont-look-back-asxia-remix 1608387013.0 1 11 1.0 945\n",
      "Synthwave I recorded a cross-genre synthwave/rock song inspired by the sci-fi story \"Dune\". Too experimental? Or does it actually work? https://soundcloud.com/stephan-mathos/untitled-28/s-bfT6o 1608385517.0 15 42 0.95 946\n",
      "Indie Pop In honor of my birthday this last week, I released one of the most whimsical songs I've ever come up with on youtube! Gonna put it on spotify, etc. soon so theres still time to get some good feedback and tweak it https://www.youtube.com/watch?v=z_FTE-QJBiQ&ab_channel=CareAgain 1608373461.0 7 29 0.9 947\n",
      "Hip-Hop & Lofi “HANDSOME” Jac - The Rain (Storm) Lyric Video https://youtu.be/FqFNjSwdTTs 1608359355.0 3 6 1.0 948\n",
      "Rap Metal Crazy trap metal beat I made with a guy named brutei. Let me know what you think. It’s different. https://youtu.be/odX_bZb0gs8 1608354018.0 23 41 0.93 949\n",
      "Indie since you guys liked \"Same Song\" so much, I want to show you all another new Indie/R&B song of mine, entitled \"Bad For You\"! https://open.spotify.com/track/4G5y3pu9WMalHw4bBVFJOq 1608351720.0 3 11 0.81 950\n",
      "Soft Rock First time posting - this is my track “Fly”. Always wanted to make a music video, and last weekend I finally did! I’m a one-man production. I’m especially keen for any mixing tips. Thanks :) https://youtu.be/ZGVHTbiA7Ds 1608340501.0 7 19 1.0 951\n",
      "Post Rock attlus - daytimemoon (little post-rock instrumental jam) https://www.youtube.com/watch?v=lu6C1TpYQi4 1608334718.0 4 17 0.84 952\n",
      "Progressive Rock RAIN - Dandelion (Official Video) album has been released, love to know your thoughts on this track. https://www.youtube.com/watch?v=faiwyxgw08w 1608331594.0 5 6 1.0 953\n",
      "Indie Pop All Along- Charles Hacker https://soundcloud.com/charles-hacker-467722360/all-along-charles-hacker 1608326608.0 1 5 1.0 954\n",
      "Acoustic Guitar New song I've been working on called \"Halfway out of hell\" about pulling yourself out of a funk but not quite there yet. All feedback welcomed. Thanks for listening. https://music.youtube.com/watch?v=SG7S-Y4YHv0&feature=share 1608326504.0 2 6 1.0 955\n",
      "Indie Rock Hello all! This song was my first attempt at a \"political\" or \"social commentary\" type of song. I feel really proud of how it turned out despite it's vocal imperfections, but I'd love your thoughts as well! https://open.spotify.com/track/0oPjRTBD2tVdEyTwSqRyuT 1608325119.0 1 5 1.0 956\n",
      "Indie My first single - maybe different but let me know the truth - here’s a lyric video https://youtu.be/TVVF3WDFUYo 1608323341.0 10 28 1.0 957\n",
      "Punk This is my first post here! I just dropped my first ep,, id say its a mix of post-hardcore/punk and emo rap. Any feedback (especially about mixing and mastering) would be wonderful! Heres one song from the ep! https://open.spotify.com/track/6rXJnBNy0eyIVXnTXDLCWi?si=tUDCff1jRbq7L7Trg-PVZw 1608322044.0 4 15 0.84 958\n",
      "Songwriter Hey this is my first post here. It's a goofy but real thank you to \"The Universe\" for looking out for me when I do spacey things. https://youtu.be/6-uYsMYqYic 1608318250.0 5 15 0.86 959\n",
      "Hip-Hop At the beginning of quarantine in the US I set a goal of dropping 30 tracks this year. This is my last one for 2020. Let me know what you think. Returning all feedback https://open.spotify.com/track/2mz6AJUJoXEpEkb4KBGxLS?si=bjjBtXgyR5KQLkEcZP5VYw&context=spotify%3Aalbum%3A5dYTotNv24xYfBM4YCXoia 1608310558.0 1 4 1.0 960\n",
      "Alternative Rock We’re back! My band GOWNS just released a new single called “Logotherapy” today - it’s a song about our journey, as humans, to find our own purpose/meaning in life. Would love to hear what y’all think! FFO 2000s Alt Rock/Indie Rock (The Strokes, The Killers, The arctic Monkeys)! https://open.spotify.com/track/2Z2qktgiLYaoeP9DUbHpkl?si=D1BsvITUS824zxzM5wawHw 1608307429.0 4 17 0.84 961\n",
      "Indie So thanks to your feedback and critiques i fixed some elements on the song and today is the release day, i hope you'll enjoy it as much as you did :D https://youtu.be/vnw40MkSGdc 1608304366.0 5 23 1.0 962\n",
      "Alternative Rock Liquid Bones - track I made for my songwriting class. Definitely Strokes inspired. https://soundcloud.app.goo.gl/1cmxi4bWMJEtmqcU7 1608300941.0 2 10 1.0 963\n",
      "Indie Rock Novelistme - Mischief http://ampl.ink/9eB8o 1608299715.0 2 8 1.0 964\n",
      "Soundtrack I wrote \"A Midsummer's Day 2D\"! It's a SNES/Retro styled Studio Ghibli inspired score https://youtu.be/vfe7oVCcbXM 1608298952.0 36 51 1.0 965\n",
      "Progressive House Tomi Kokki - Guinea Pig [Progressive House, Trance] (10th track of my dance oriented album “There’s a Party In My Head And Everyone’s Invited”. Enjoy!) https://soundcloud.com/user-394274214/10-tomi-kokki-guinea-pig 1608290045.0 1 2 1.0 966\n",
      "Alternative Rock We've endured so much this year and I wanted to create a song that has depicted all the highs, lows, twists and turns all throughout 2020. https://open.spotify.com/track/1K9I8YYhg2YAkhtN1OQ3sH?si=oTcZorrZQ62MX7Xhhx_TOQ 1608286438.0 5 18 0.86 967\n",
      "Alternative Rock I did this song a couple days ago, I think we’ve all felt like this at one point or another. I actually took some time on the production aspect so I hope it helped, let me know what y’all think! Thanks for all your love and feedback!!! https://youtu.be/rWli5aJU0Hc 1608278884.0 3 9 1.0 968\n",
      "Ambient this is a little song that i made in a couple of days with a little help from a friend of mine , so it starts good , then degenerates . it s a demo , would like any kind of comment or feedback https://soundcloud.com/fredaze/hobo 1608266932.0 11 20 1.0 969\n",
      "Chillhop By popular demand, I fixed the drums and worked with an audio engineer on my track. Check it out: \"Violin Pop\" or \"Classical Chill Beats\" https://youtu.be/Ig2xc3dqisE 1608258798.0 7 26 0.9 970\n",
      "Instrumental Hip Hop I produced a jazz influenced hiphop beat \"SLOW IT DOWN\". What do you think!? https://soundcloud.com/user-840940538/slow-it-down 1608258707.0 1 6 1.0 971\n",
      "Electronic Electronic/house remix of Alicia Keys- Fallin’ https://soundcloud.app.goo.gl/q3xFAgQuA4NuPwxK8 1608257969.0 1 2 1.0 972\n",
      "Urban Soul We just dropped an EP and would love some feedback on this! Kahika - Ignis feat Bells [SoulDub] (2020) https://soundcloud.com/kahika/2-kahika-ignis-feat-bells 1608257721.0 2 5 1.0 973\n",
      "Acoustic Fingerstyle Harrison Gray - Thanataphobia. One-take recording of a song I wrote a week ago, I originally wrote all the lyrics for a metalcore song but felt like they fit better with a folky acoustic track (: I always relish the feedback you guys give me here, truly the best community! https://www.youtube.com/watch?v=m2olIYBVMDU 1608257574.0 3 6 1.0 974\n",
      "Alternative Rock Forget My Name (alt rock / grunge/ punk) - I'll probably rerecord this later, any feedback/ideas/feelings, etc. are welcomed and appreciated https://open.spotify.com/track/3NwSoCTi2JYt9fgRiMvhz5 1608253689.0 5 17 0.86 975\n",
      "Indie Rock Our first show! (kind of) https://www.youtube.com/watch?v=lffroFUxoLw&list=RDMMlffroFUxoLw&start_radio=1 1608252516.0 5 21 0.86 976\n",
      "EDM Trap Check this one MALDONADO from my project NARKAN vol.1 https://www.reddit.com/r/IndieMusicFeedback/comments/kf920m/check_this_one_maldonado_from_my_project_narkan/ 1608247894.0 2 2 1.0 977\n",
      "Other Creatures of the Night - a composition with Dark, Epic and Classical vibes, what do you think? :) https://www.youtube.com/watch?v=Srrmt8wcNDE 1608247597.0 3 11 1.0 978\n",
      "Indie Pop Working on an indie pop song and would really love some feedback / advice on the mixing and production - it just sounds unavoidably garageband-y to me https://soundcloud.com/desktopalarmclock/version-wip/s-fe6uGpuZTsE 1608246034.0 2 12 1.0 979\n",
      "Indie Rock Recently released the first single from my upcoming full length album. Should love to hear your feedback. Any playlists it would be good on? https://open.spotify.com/track/2wJDsV4OeJ0r8bWeHoSSVH 1608238538.0 7 21 1.0 980\n",
      "Alternative Rock Inspired by The Black Stork, a film starring Harry J. Haiselden from 1917. There are few things more terrifying and cruel than infanticide, and I tried to capture that horror in this song. I hope you enjoy it, and all criticisms welcome! https://youtu.be/Dh3cwOJd94o 1608237372.0 6 17 1.0 981\n",
      "Trap Step Satellites - A song by Bir and Sykozis (Bassic Psychos) https://soundcloud.com/bassic-psychos/satellites-remaster-take-2/s-yOhAHQbpKI8 1608234119.0 1 3 1.0 982\n",
      "Acoustic Rock I made a Christmas Album, 4 Originals and 7 Public Domain. This is a simple original song themed on the 2020 year about dealing with how the traditions of the holiday will be different. Mournful meets Christmas cheer? Christmas This Year 2020 https://open.spotify.com/track/0kKQZi1WNSXRlOhfQbxn5X?si=Hc4DNR5GRj2X_ObBeErdIQ 1608232235.0 4 8 0.84 983\n",
      "Indie Pop Hello! I released my album almost two weeks ago. Another of my favorite songs from this one is \"Truman\", the title track. I appreciate any feedback and thank you very much. https://www.youtube.com/watch?v=nVUYKzOBxG4 1608227725.0 3 10 0.72 984\n",
      "Electronic Relativity by soldsoul | Free Listening on SoundCloud https://www.reddit.com/r/IndieMusicFeedback/comments/kf29tz/relativity_by_soldsoul_free_listening_on/ 1608227411.0 2 4 1.0 985\n",
      "Hip-Hop & Lofi [FREE FOR PROFIT] \"Lofi Honey\" - Mavi x Earl Sweatshirt Type Beat https://youtu.be/KPmCiPpFPSg 1608225195.0 4 8 0.84 986\n",
      "Hip-hop & Rap My debut project! / Experimental Dutch hip-hop https://www.reddit.com/r/IndieMusicFeedback/comments/kf1hgo/my_debut_project_experimental_dutch_hiphop/ 1608225065.0 3 9 1.0 987\n",
      "Instrumental An attempt to make an orchestral composition by adding some folk and ambient elements to the song. Any feedback will be helpful. https://soundcloud.com/sutpen-603390625/the-chasing 1608223928.0 7 17 0.9 988\n"
     ]
    }
   ],
   "source": [
    "imf = reddit.subreddit('IndieMusicFeedback').new(limit = 1000)\n",
    "count = 0\n",
    "for post in imf:\n",
    "    #between jan 2020 and jan 2021\n",
    "    if 1577836800 < post.created_utc < 1609459200:\n",
    "        print(post.link_flair_text, post.title, post.url,post.created_utc, post.score, post.num_comments, post.upvote_ratio, count)\n",
    "    count += 1"
   ]
  },
  {
   "cell_type": "markdown",
   "metadata": {},
   "source": [
    "Only getting around 1000 posts for this one. After some quick research, I'm learning that you can only scrape around 1000 posts at a time. I can try and use pushshift, an API that should help. (courtesy of https://www.reddit.com/r/redditdev/comments/8zhcmr/how_to_crawl_more_than_1000_posts_through_reddit/)"
   ]
  },
  {
   "cell_type": "markdown",
   "metadata": {},
   "source": [
    "https://api.pushshift.io/reddit/submission/search/?after=1577836800&before=1609459199&sort_type=score&sort=desc&subreddit=IndieMusicFeedback"
   ]
  },
  {
   "cell_type": "markdown",
   "metadata": {},
   "source": [
    "Okay, not much help on this one. A quick cmd + f shows me that there are only 21 posts shown based on the API (when searching for post descriptions). So we're going to use original tool and scale back the project to what we have access to: data in December."
   ]
  },
  {
   "cell_type": "markdown",
   "metadata": {},
   "source": [
    "## Cleaning the data"
   ]
  },
  {
   "cell_type": "markdown",
   "metadata": {},
   "source": [
    "I'm cleaning the data as it's going in- making sure all the youtube/reddit/soundcloud/spotify links are alike so I can use them for later. "
   ]
  },
  {
   "cell_type": "markdown",
   "metadata": {},
   "source": [
    "After taking a break from this project for a few days, I see that I have fewer rows in my dataset. Looks like the Reddit API also updates what you can/ can't see in real time, seeing how i'm scraping the subreddit. Luckily, I have a csv of the everything I'm looking for in december. \n"
   ]
  },
  {
   "cell_type": "markdown",
   "metadata": {},
   "source": [
    "Now we are working with the csv, so I'll clean the data by:\n",
    "- stripping the URL's\n",
    "- Adjusting the comments (bots add 2 comments to every post, need to adjust)\n",
    "- Converting from Unix to date-time (so we can stick within december)"
   ]
  },
  {
   "cell_type": "code",
   "execution_count": 4,
   "metadata": {
    "scrolled": true
   },
   "outputs": [
    {
     "data": {
      "text/html": [
       "<div>\n",
       "<style scoped>\n",
       "    .dataframe tbody tr th:only-of-type {\n",
       "        vertical-align: middle;\n",
       "    }\n",
       "\n",
       "    .dataframe tbody tr th {\n",
       "        vertical-align: top;\n",
       "    }\n",
       "\n",
       "    .dataframe thead th {\n",
       "        text-align: right;\n",
       "    }\n",
       "</style>\n",
       "<table border=\"1\" class=\"dataframe\">\n",
       "  <thead>\n",
       "    <tr style=\"text-align: right;\">\n",
       "      <th></th>\n",
       "      <th>Genre</th>\n",
       "      <th>Title</th>\n",
       "      <th>URL</th>\n",
       "      <th>Upload Time</th>\n",
       "      <th>Post Score</th>\n",
       "      <th>Comments</th>\n",
       "      <th>Upvote Ratio</th>\n",
       "    </tr>\n",
       "  </thead>\n",
       "  <tbody>\n",
       "    <tr>\n",
       "      <th>0</th>\n",
       "      <td>Lofi</td>\n",
       "      <td>Lo-F1 by CaseOfficialMusic | Case Official Mus...</td>\n",
       "      <td>soundcloud</td>\n",
       "      <td>2021-01-01 00:29:14</td>\n",
       "      <td>1</td>\n",
       "      <td>9</td>\n",
       "      <td>1.0</td>\n",
       "    </tr>\n",
       "    <tr>\n",
       "      <th>1</th>\n",
       "      <td>Electronic</td>\n",
       "      <td>Hi IMF, i proudly present my 2nd release \"Cons...</td>\n",
       "      <td>soundcloud</td>\n",
       "      <td>2020-12-31 23:57:07</td>\n",
       "      <td>1</td>\n",
       "      <td>3</td>\n",
       "      <td>1.0</td>\n",
       "    </tr>\n",
       "    <tr>\n",
       "      <th>2</th>\n",
       "      <td>Acoustic Rock</td>\n",
       "      <td>Cover: Jane Says - Jane's Addiction | This is ...</td>\n",
       "      <td>soundcloud</td>\n",
       "      <td>2020-12-31 23:56:35</td>\n",
       "      <td>2</td>\n",
       "      <td>0</td>\n",
       "      <td>1.0</td>\n",
       "    </tr>\n",
       "    <tr>\n",
       "      <th>3</th>\n",
       "      <td>90s</td>\n",
       "      <td>New Jack Swing - Across The Pond. Man, the New...</td>\n",
       "      <td>soundcloud</td>\n",
       "      <td>2020-12-31 23:26:36</td>\n",
       "      <td>1</td>\n",
       "      <td>0</td>\n",
       "      <td>1.0</td>\n",
       "    </tr>\n",
       "    <tr>\n",
       "      <th>4</th>\n",
       "      <td>Folk Rock</td>\n",
       "      <td>So, this is different for me, but I have a fol...</td>\n",
       "      <td>bandcamp</td>\n",
       "      <td>2020-12-31 22:30:06</td>\n",
       "      <td>2</td>\n",
       "      <td>2</td>\n",
       "      <td>1.0</td>\n",
       "    </tr>\n",
       "    <tr>\n",
       "      <th>...</th>\n",
       "      <td>...</td>\n",
       "      <td>...</td>\n",
       "      <td>...</td>\n",
       "      <td>...</td>\n",
       "      <td>...</td>\n",
       "      <td>...</td>\n",
       "      <td>...</td>\n",
       "    </tr>\n",
       "    <tr>\n",
       "      <th>886</th>\n",
       "      <td>RnB</td>\n",
       "      <td>Get You - Daniel Caesar Guitar Loop</td>\n",
       "      <td>youtube</td>\n",
       "      <td>2020-12-01 13:39:39</td>\n",
       "      <td>6</td>\n",
       "      <td>22</td>\n",
       "      <td>1.0</td>\n",
       "    </tr>\n",
       "    <tr>\n",
       "      <th>887</th>\n",
       "      <td>Instrumental Hip Hop</td>\n",
       "      <td>I made Freddie Dredd Type Beat. I know there’s...</td>\n",
       "      <td>soundcloud</td>\n",
       "      <td>2020-12-01 12:38:54</td>\n",
       "      <td>3</td>\n",
       "      <td>9</td>\n",
       "      <td>1.0</td>\n",
       "    </tr>\n",
       "    <tr>\n",
       "      <th>888</th>\n",
       "      <td>Hip-hop &amp; Rap</td>\n",
       "      <td>maybe your god is like that (ft. Bjorn Vader)</td>\n",
       "      <td>youtube</td>\n",
       "      <td>2020-12-01 04:32:58</td>\n",
       "      <td>1</td>\n",
       "      <td>16</td>\n",
       "      <td>1.0</td>\n",
       "    </tr>\n",
       "    <tr>\n",
       "      <th>889</th>\n",
       "      <td>Alternative</td>\n",
       "      <td>My first time ever posting here. I’ve given fe...</td>\n",
       "      <td>youtube</td>\n",
       "      <td>2020-12-01 01:12:05</td>\n",
       "      <td>1</td>\n",
       "      <td>6</td>\n",
       "      <td>1.0</td>\n",
       "    </tr>\n",
       "    <tr>\n",
       "      <th>890</th>\n",
       "      <td>Pop</td>\n",
       "      <td>Fxtis-Crimson // My newest song is out now! It...</td>\n",
       "      <td>spotify</td>\n",
       "      <td>2020-12-01 00:14:33</td>\n",
       "      <td>1</td>\n",
       "      <td>2</td>\n",
       "      <td>1.0</td>\n",
       "    </tr>\n",
       "  </tbody>\n",
       "</table>\n",
       "<p>891 rows × 7 columns</p>\n",
       "</div>"
      ],
      "text/plain": [
       "                    Genre                                              Title  \\\n",
       "0                    Lofi  Lo-F1 by CaseOfficialMusic | Case Official Mus...   \n",
       "1              Electronic  Hi IMF, i proudly present my 2nd release \"Cons...   \n",
       "2           Acoustic Rock  Cover: Jane Says - Jane's Addiction | This is ...   \n",
       "3                     90s  New Jack Swing - Across The Pond. Man, the New...   \n",
       "4               Folk Rock  So, this is different for me, but I have a fol...   \n",
       "..                    ...                                                ...   \n",
       "886                   RnB                Get You - Daniel Caesar Guitar Loop   \n",
       "887  Instrumental Hip Hop  I made Freddie Dredd Type Beat. I know there’s...   \n",
       "888         Hip-hop & Rap      maybe your god is like that (ft. Bjorn Vader)   \n",
       "889           Alternative  My first time ever posting here. I’ve given fe...   \n",
       "890                   Pop  Fxtis-Crimson // My newest song is out now! It...   \n",
       "\n",
       "            URL         Upload Time  Post Score  Comments  Upvote Ratio  \n",
       "0    soundcloud 2021-01-01 00:29:14           1         9           1.0  \n",
       "1    soundcloud 2020-12-31 23:57:07           1         3           1.0  \n",
       "2    soundcloud 2020-12-31 23:56:35           2         0           1.0  \n",
       "3    soundcloud 2020-12-31 23:26:36           1         0           1.0  \n",
       "4      bandcamp 2020-12-31 22:30:06           2         2           1.0  \n",
       "..          ...                 ...         ...       ...           ...  \n",
       "886     youtube 2020-12-01 13:39:39           6        22           1.0  \n",
       "887  soundcloud 2020-12-01 12:38:54           3         9           1.0  \n",
       "888     youtube 2020-12-01 04:32:58           1        16           1.0  \n",
       "889     youtube 2020-12-01 01:12:05           1         6           1.0  \n",
       "890     spotify 2020-12-01 00:14:33           1         2           1.0  \n",
       "\n",
       "[891 rows x 7 columns]"
      ]
     },
     "execution_count": 4,
     "metadata": {},
     "output_type": "execute_result"
    }
   ],
   "source": [
    "IMF_df = pd.read_csv('IMF_DECEMBER.csv')\n",
    "\n",
    "IMF_df.loc[(IMF_df['URL'] == 'youtu.be') | (IMF_df['URL'] == 'm.youtube') | (IMF_df['URL'] == 'music.youtube'), 'URL'] = 'youtube'\n",
    "IMF_df.loc[(IMF_df['URL'] == 'i.redd.it') | (IMF_df['URL'] == 'v.redd.it'), 'URL'] = 'reddit'                             \n",
    "IMF_df.loc[IMF_df['URL'] == 'soundcloud.app.goo.gl', 'URL'] = 'soundcloud'\n",
    "IMF_df.loc[IMF_df['URL'] == 'm.soundcloud', 'URL'] = 'soundcloud'\n",
    "IMF_df.loc[IMF_df['URL'] == 'open.spotify', 'URL'] = 'spotify'  \n",
    "IMF_df.loc[IMF_df['URL'].str.contains('.bandcamp'), 'URL'] = 'bandcamp'\n",
    "\n",
    "\n",
    "IMF_df['Upload Time'] = pd.to_datetime(IMF_df['Upload Time'], unit = 's')\n",
    "IMF_df = IMF_df.drop(IMF_df.index[891:932])\n",
    "\n",
    "IMF_df['Comments'] = IMF_df['Comments'] - 2\n",
    "\n",
    "IMF_df"
   ]
  },
  {
   "cell_type": "code",
   "execution_count": 25,
   "metadata": {
    "scrolled": false
   },
   "outputs": [
    {
     "data": {
      "text/plain": [
       "count                  878\n",
       "unique                 125\n",
       "top       Alternative Rock\n",
       "freq                    57\n",
       "Name: Genre, dtype: object"
      ]
     },
     "execution_count": 25,
     "metadata": {},
     "output_type": "execute_result"
    }
   ],
   "source": [
    "IMF_df['Genre'].describe()"
   ]
  },
  {
   "cell_type": "code",
   "execution_count": 68,
   "metadata": {
    "scrolled": true
   },
   "outputs": [
    {
     "data": {
      "text/plain": [
       "Genre    379\n",
       "dtype: int64"
      ]
     },
     "execution_count": 68,
     "metadata": {},
     "output_type": "execute_result"
    }
   ],
   "source": [
    "genre_count_df = pd.DataFrame(IMF_df['Genre'].value_counts(ascending = False))\n",
    "pd.set_option('display.max_rows', genre_count_df.shape[0]+1)\n",
    "genre_count_df.sum()\n",
    "top_10= genre_count_df.nlargest(10,'Genre')\n",
    "top_10.sum()"
   ]
  },
  {
   "cell_type": "code",
   "execution_count": 119,
   "metadata": {
    "scrolled": false
   },
   "outputs": [
    {
     "data": {
      "text/plain": [
       "Text(0.5, 0, 'Genre')"
      ]
     },
     "execution_count": 119,
     "metadata": {},
     "output_type": "execute_result"
    },
    {
     "data": {
      "image/png": "[encoded data removed]",
      "text/plain": [
       "<Figure size 1080x1080 with 1 Axes>"
      ]
     },
     "metadata": {},
     "output_type": "display_data"
    }
   ],
   "source": [
    "sns.set_theme(style=\"whitegrid\")\n",
    "sns.color_palette(\"coolwarm\", as_cmap=True)\n",
    "sns.set(rc={'figure.figsize':(15,15)})\n",
    "genre_plot =sns.barplot(x = top_10.index , y = 'Genre', data= top_10,\n",
    "            label=\"Total\"\n",
    "           )\n",
    "sns.set(font_scale=2)\n",
    "plt.xticks(rotation=45)\n",
    "genre_plot.set_title('Top 10 Genres Posted in r/IndieMusicFeedback')\n",
    "genre_plot.set_ylabel('Count',fontsize=20)\n",
    "genre_plot.set_xlabel('Genre',fontsize=20)"
   ]
  },
  {
   "cell_type": "markdown",
   "metadata": {},
   "source": [
    "Interestingly enough, these top 10 genres make up less than HALF (380/879) of the total 879 submisssions from december."
   ]
  },
  {
   "cell_type": "markdown",
   "metadata": {},
   "source": [
    "## Where do user-submitted URL's go to?"
   ]
  },
  {
   "cell_type": "markdown",
   "metadata": {},
   "source": [
    "Users submit URL's with their music so other users can give feedback."
   ]
  },
  {
   "cell_type": "code",
   "execution_count": 122,
   "metadata": {},
   "outputs": [
    {
     "data": {
      "text/html": [
       "<div>\n",
       "<style scoped>\n",
       "    .dataframe tbody tr th:only-of-type {\n",
       "        vertical-align: middle;\n",
       "    }\n",
       "\n",
       "    .dataframe tbody tr th {\n",
       "        vertical-align: top;\n",
       "    }\n",
       "\n",
       "    .dataframe thead th {\n",
       "        text-align: right;\n",
       "    }\n",
       "</style>\n",
       "<table border=\"1\" class=\"dataframe\">\n",
       "  <thead>\n",
       "    <tr style=\"text-align: right;\">\n",
       "      <th></th>\n",
       "      <th>COUNT</th>\n",
       "    </tr>\n",
       "  </thead>\n",
       "  <tbody>\n",
       "    <tr>\n",
       "      <th>youtube</th>\n",
       "      <td>375</td>\n",
       "    </tr>\n",
       "    <tr>\n",
       "      <th>soundcloud</th>\n",
       "      <td>261</td>\n",
       "    </tr>\n",
       "    <tr>\n",
       "      <th>spotify</th>\n",
       "      <td>140</td>\n",
       "    </tr>\n",
       "    <tr>\n",
       "      <th>reddit</th>\n",
       "      <td>75</td>\n",
       "    </tr>\n",
       "    <tr>\n",
       "      <th>bandcamp</th>\n",
       "      <td>27</td>\n",
       "    </tr>\n",
       "  </tbody>\n",
       "</table>\n",
       "</div>"
      ],
      "text/plain": [
       "            COUNT\n",
       "youtube       375\n",
       "soundcloud    261\n",
       "spotify       140\n",
       "reddit         75\n",
       "bandcamp       27"
      ]
     },
     "execution_count": 122,
     "metadata": {},
     "output_type": "execute_result"
    }
   ],
   "source": [
    "url_count_df = IMF_df['URL'].value_counts()\n",
    "url_count_df = url_count_df.to_frame()\n",
    "url_count_df_new = url_count_df.rename(columns={'URL': 'COUNT'}, index={'': 'URL'})\n",
    "\n",
    "url_count_df_filtered = url_count_df_new[url_count_df_new['COUNT'] >= 5] \n",
    "url_count_df_filtered"
   ]
  },
  {
   "cell_type": "markdown",
   "metadata": {},
   "source": [
    "I filtered out URL's that came up less than 5 times – they were the obscure ones that nobody really posted. \n",
    "\n",
    "Based on my own experience on the site, I'm pretty surprised how Youtube is the highest- I would have thought soundcloud is the most used redirect link because in my experience on the subreddit, I get a lot of soundcloud links... Or maybe I just choose to go there because it's a personal preference. "
   ]
  },
  {
   "cell_type": "code",
   "execution_count": 126,
   "metadata": {
    "scrolled": true
   },
   "outputs": [
    {
     "data": {
      "text/plain": [
       "Text(0.5, 0, 'URL')"
      ]
     },
     "execution_count": 126,
     "metadata": {},
     "output_type": "execute_result"
    },
    {
     "data": {
      "image/png": "[encoded data removed]",
      "text/plain": [
       "<Figure size 1080x1080 with 1 Axes>"
      ]
     },
     "metadata": {},
     "output_type": "display_data"
    }
   ],
   "source": [
    "sns.set_theme(style=\"whitegrid\")\n",
    "sns.set(rc={'figure.figsize':(15,15)})\n",
    "sns.color_palette(\"coolwarm\", as_cmap=True)\n",
    "barplot = sns.barplot(x = url_count_df_filtered.index , y = 'COUNT', data= url_count_df_filtered,\n",
    "            label=\"Total\")\n",
    "sns.set(font_scale=2)\n",
    "barplot.set_title('Top 10 URL''s Posted in r/IndieMusicFeedback')\n",
    "barplot.set_ylabel('Count',fontsize=20)\n",
    "barplot.set_xlabel('URL',fontsize=20)"
   ]
  },
  {
   "cell_type": "code",
   "execution_count": null,
   "metadata": {},
   "outputs": [],
   "source": []
  }
 ],
 "metadata": {
  "kernelspec": {
   "display_name": "Python 3",
   "language": "python",
   "name": "python3"
  },
  "language_info": {
   "codemirror_mode": {
    "name": "ipython",
    "version": 3
   },
   "file_extension": ".py",
   "mimetype": "text/x-python",
   "name": "python",
   "nbconvert_exporter": "python",
   "pygments_lexer": "ipython3",
   "version": "3.8.5"
  }
 },
 "nbformat": 4,
 "nbformat_minor": 4
}
